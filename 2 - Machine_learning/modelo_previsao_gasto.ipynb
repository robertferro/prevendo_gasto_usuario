{
  "nbformat": 4,
  "nbformat_minor": 0,
  "metadata": {
    "colab": {
      "name": "modelo_previsao_gasto.ipynb",
      "provenance": [],
      "collapsed_sections": []
    },
    "kernelspec": {
      "name": "python3",
      "display_name": "Python 3"
    },
    "language_info": {
      "name": "python"
    }
  },
  "cells": [
    {
      "cell_type": "code",
      "metadata": {
        "id": "wFAcHWzv4ZNE"
      },
      "source": [
        "import pandas as pd\n",
        "import numpy as np\n",
        "import seaborn as sns\n",
        "import matplotlib.pyplot as plt"
      ],
      "execution_count": 1,
      "outputs": []
    },
    {
      "cell_type": "code",
      "metadata": {
        "id": "-rsH7mFc4gsC"
      },
      "source": [
        "url='https://raw.githubusercontent.com/robertferro/previsao_gastos_por_usuario/main/1%20-%20ETL/dados_pre_processados.csv'"
      ],
      "execution_count": 2,
      "outputs": []
    },
    {
      "cell_type": "code",
      "metadata": {
        "id": "tuwNyyqA4jne"
      },
      "source": [
        "df = pd.read_csv(url)"
      ],
      "execution_count": 3,
      "outputs": []
    },
    {
      "cell_type": "markdown",
      "metadata": {
        "id": "M9mmshsg4laE"
      },
      "source": [
        "- Excluindo coluna referente ao id."
      ]
    },
    {
      "cell_type": "code",
      "metadata": {
        "id": "EFHNhXSC5xvH"
      },
      "source": [
        "df.drop('fullVisitorId',axis=1,inplace=True)"
      ],
      "execution_count": 4,
      "outputs": []
    },
    {
      "cell_type": "code",
      "metadata": {
        "colab": {
          "base_uri": "https://localhost:8080/"
        },
        "id": "rYqIJihi5A3m",
        "outputId": "d6392651-b00d-4ea4-e35d-c1631f3e7ca6"
      },
      "source": [
        "df.info()"
      ],
      "execution_count": 5,
      "outputs": [
        {
          "output_type": "stream",
          "text": [
            "<class 'pandas.core.frame.DataFrame'>\n",
            "RangeIndex: 9997 entries, 0 to 9996\n",
            "Data columns (total 50 columns):\n",
            " #   Column                    Non-Null Count  Dtype  \n",
            "---  ------                    --------------  -----  \n",
            " 0   visitNumber_ultima        9997 non-null   int64  \n",
            " 1   channelGrouping_ultima    9997 non-null   object \n",
            " 2   date_ultima               9997 non-null   int64  \n",
            " 3   visitStartTime_ultima     9997 non-null   int64  \n",
            " 4   browser_ultima            9997 non-null   object \n",
            " 5   operatingSystem_ultima    9997 non-null   object \n",
            " 6   isMobile_ultima           9997 non-null   bool   \n",
            " 7   deviceCategory_ultima     9997 non-null   object \n",
            " 8   continent_ultima          9997 non-null   object \n",
            " 9   subContinent_ultima       9997 non-null   object \n",
            " 10  country_ultima            9997 non-null   object \n",
            " 11  region_ultima             9997 non-null   object \n",
            " 12  metro_ultima              9997 non-null   object \n",
            " 13  city_ultima               9997 non-null   object \n",
            " 14  networkDomain_ultima      9997 non-null   object \n",
            " 15  campaign_ultima           9997 non-null   object \n",
            " 16  source_ultima             9997 non-null   object \n",
            " 17  medium_ultima             9997 non-null   object \n",
            " 18  keyword_ultima            4386 non-null   object \n",
            " 19  isTrueDirect_ultima       2535 non-null   object \n",
            " 20  referralPath_ultima       3803 non-null   object \n",
            " 21  adContent_ultima          100 non-null    object \n",
            " 22  campaignCode_ultima       1 non-null      object \n",
            " 23  visitNumber_primeira      9997 non-null   int64  \n",
            " 24  channelGrouping_primeira  9997 non-null   object \n",
            " 25  date_primeira             9997 non-null   int64  \n",
            " 26  visitNumber_primeira.1    9997 non-null   int64  \n",
            " 27  visitStartTime_primeira   9997 non-null   int64  \n",
            " 28  browser_primeira          9997 non-null   object \n",
            " 29  operatingSystem_primeira  9997 non-null   object \n",
            " 30  isMobile_primeira         9997 non-null   bool   \n",
            " 31  deviceCategory_primeira   9997 non-null   object \n",
            " 32  campaign_primeira         9997 non-null   object \n",
            " 33  source_primeira           9997 non-null   object \n",
            " 34  medium_primeira           9997 non-null   object \n",
            " 35  keyword_primeira          4375 non-null   object \n",
            " 36  isTrueDirect_primeira     1966 non-null   object \n",
            " 37  referralPath_primeira     3750 non-null   object \n",
            " 38  adContent_primeira        90 non-null     object \n",
            " 39  campaignCode_primeira     1 non-null      object \n",
            " 40  hits                      9997 non-null   int64  \n",
            " 41  pageviews                 9997 non-null   int64  \n",
            " 42  bounces                   9997 non-null   float64\n",
            " 43  newVisits                 9997 non-null   float64\n",
            " 44  transactionRevenue        9997 non-null   float64\n",
            " 45  tempo_dif                 9997 non-null   int64  \n",
            " 46  total_visitas_usuario     9997 non-null   int64  \n",
            " 47  ano_ultima                9997 non-null   int64  \n",
            " 48  mes_ultima                9997 non-null   int64  \n",
            " 49  dia_ultima                9997 non-null   int64  \n",
            "dtypes: bool(2), float64(3), int64(14), object(31)\n",
            "memory usage: 3.7+ MB\n"
          ],
          "name": "stdout"
        }
      ]
    },
    {
      "cell_type": "markdown",
      "metadata": {
        "id": "cE0Il5nstQr7"
      },
      "source": [
        " - Excluindo colunas com muitos dados ausentes."
      ]
    },
    {
      "cell_type": "code",
      "metadata": {
        "id": "h5910FTbtP1e"
      },
      "source": [
        "dados_ausentes = df[['campaignCode_primeira','adContent_primeira','referralPath_primeira','keyword_primeira','isTrueDirect_primeira','isTrueDirect_ultima','campaignCode_ultima','adContent_ultima','referralPath_ultima','keyword_ultima']]"
      ],
      "execution_count": 6,
      "outputs": []
    },
    {
      "cell_type": "code",
      "metadata": {
        "colab": {
          "base_uri": "https://localhost:8080/"
        },
        "id": "61tDCMg6uEF8",
        "outputId": "2a789a27-4628-486f-b6d0-5fd5ce9a0ee7"
      },
      "source": [
        "dados_ausentes.info()"
      ],
      "execution_count": 7,
      "outputs": [
        {
          "output_type": "stream",
          "text": [
            "<class 'pandas.core.frame.DataFrame'>\n",
            "RangeIndex: 9997 entries, 0 to 9996\n",
            "Data columns (total 10 columns):\n",
            " #   Column                 Non-Null Count  Dtype \n",
            "---  ------                 --------------  ----- \n",
            " 0   campaignCode_primeira  1 non-null      object\n",
            " 1   adContent_primeira     90 non-null     object\n",
            " 2   referralPath_primeira  3750 non-null   object\n",
            " 3   keyword_primeira       4375 non-null   object\n",
            " 4   isTrueDirect_primeira  1966 non-null   object\n",
            " 5   isTrueDirect_ultima    2535 non-null   object\n",
            " 6   campaignCode_ultima    1 non-null      object\n",
            " 7   adContent_ultima       100 non-null    object\n",
            " 8   referralPath_ultima    3803 non-null   object\n",
            " 9   keyword_ultima         4386 non-null   object\n",
            "dtypes: object(10)\n",
            "memory usage: 781.1+ KB\n"
          ],
          "name": "stdout"
        }
      ]
    },
    {
      "cell_type": "code",
      "metadata": {
        "id": "Jk5ITUZItmNM"
      },
      "source": [
        "for col in dados_ausentes.columns:\n",
        "  df.drop(col,axis=1,inplace=True)"
      ],
      "execution_count": 8,
      "outputs": []
    },
    {
      "cell_type": "markdown",
      "metadata": {
        "id": "0D_HMIdnKRqs"
      },
      "source": [
        "- Excluindo as colunas referentes a data."
      ]
    },
    {
      "cell_type": "code",
      "metadata": {
        "id": "NwLem9ZVJ9mT"
      },
      "source": [
        "df.drop(columns = ['date_ultima','date_primeira'],axis=1,inplace=True)\n"
      ],
      "execution_count": 9,
      "outputs": []
    },
    {
      "cell_type": "code",
      "metadata": {
        "colab": {
          "base_uri": "https://localhost:8080/"
        },
        "id": "DAz8hbfk4C-2",
        "outputId": "a97daabe-ee2b-499d-c7f2-1acff732086b"
      },
      "source": [
        "df.info()"
      ],
      "execution_count": 10,
      "outputs": [
        {
          "output_type": "stream",
          "text": [
            "<class 'pandas.core.frame.DataFrame'>\n",
            "RangeIndex: 9997 entries, 0 to 9996\n",
            "Data columns (total 38 columns):\n",
            " #   Column                    Non-Null Count  Dtype  \n",
            "---  ------                    --------------  -----  \n",
            " 0   visitNumber_ultima        9997 non-null   int64  \n",
            " 1   channelGrouping_ultima    9997 non-null   object \n",
            " 2   visitStartTime_ultima     9997 non-null   int64  \n",
            " 3   browser_ultima            9997 non-null   object \n",
            " 4   operatingSystem_ultima    9997 non-null   object \n",
            " 5   isMobile_ultima           9997 non-null   bool   \n",
            " 6   deviceCategory_ultima     9997 non-null   object \n",
            " 7   continent_ultima          9997 non-null   object \n",
            " 8   subContinent_ultima       9997 non-null   object \n",
            " 9   country_ultima            9997 non-null   object \n",
            " 10  region_ultima             9997 non-null   object \n",
            " 11  metro_ultima              9997 non-null   object \n",
            " 12  city_ultima               9997 non-null   object \n",
            " 13  networkDomain_ultima      9997 non-null   object \n",
            " 14  campaign_ultima           9997 non-null   object \n",
            " 15  source_ultima             9997 non-null   object \n",
            " 16  medium_ultima             9997 non-null   object \n",
            " 17  visitNumber_primeira      9997 non-null   int64  \n",
            " 18  channelGrouping_primeira  9997 non-null   object \n",
            " 19  visitNumber_primeira.1    9997 non-null   int64  \n",
            " 20  visitStartTime_primeira   9997 non-null   int64  \n",
            " 21  browser_primeira          9997 non-null   object \n",
            " 22  operatingSystem_primeira  9997 non-null   object \n",
            " 23  isMobile_primeira         9997 non-null   bool   \n",
            " 24  deviceCategory_primeira   9997 non-null   object \n",
            " 25  campaign_primeira         9997 non-null   object \n",
            " 26  source_primeira           9997 non-null   object \n",
            " 27  medium_primeira           9997 non-null   object \n",
            " 28  hits                      9997 non-null   int64  \n",
            " 29  pageviews                 9997 non-null   int64  \n",
            " 30  bounces                   9997 non-null   float64\n",
            " 31  newVisits                 9997 non-null   float64\n",
            " 32  transactionRevenue        9997 non-null   float64\n",
            " 33  tempo_dif                 9997 non-null   int64  \n",
            " 34  total_visitas_usuario     9997 non-null   int64  \n",
            " 35  ano_ultima                9997 non-null   int64  \n",
            " 36  mes_ultima                9997 non-null   int64  \n",
            " 37  dia_ultima                9997 non-null   int64  \n",
            "dtypes: bool(2), float64(3), int64(12), object(21)\n",
            "memory usage: 2.8+ MB\n"
          ],
          "name": "stdout"
        }
      ]
    },
    {
      "cell_type": "markdown",
      "metadata": {
        "id": "ZnFRDS6uCvBl"
      },
      "source": [
        "## Processamento dos dados."
      ]
    },
    {
      "cell_type": "markdown",
      "metadata": {
        "id": "LqQfaHoQ6MoL"
      },
      "source": [
        "- Convertendo as variáveis qualitativas para formato numérico."
      ]
    },
    {
      "cell_type": "code",
      "metadata": {
        "id": "rh48v0Nb9Iz1"
      },
      "source": [
        "dados = df.copy()"
      ],
      "execution_count": 11,
      "outputs": []
    },
    {
      "cell_type": "code",
      "metadata": {
        "id": "X7tjLv0m5D7S"
      },
      "source": [
        "var_qualitativas = dados.dtypes[dados.dtypes == object].keys()"
      ],
      "execution_count": 12,
      "outputs": []
    },
    {
      "cell_type": "code",
      "metadata": {
        "id": "3kJ3PIAA6Soa"
      },
      "source": [
        "from sklearn.preprocessing import LabelEncoder"
      ],
      "execution_count": 13,
      "outputs": []
    },
    {
      "cell_type": "code",
      "metadata": {
        "id": "Fb87z2_Y6SrL"
      },
      "source": [
        "encoder = LabelEncoder()"
      ],
      "execution_count": 14,
      "outputs": []
    },
    {
      "cell_type": "code",
      "metadata": {
        "id": "FPrz7xXE6SwY"
      },
      "source": [
        "for col in var_qualitativas:\n",
        "  encoder=LabelEncoder()\n",
        "  strings = list(dados[col].values.astype('str'))\n",
        "  dados[col] = encoder.fit_transform(strings)"
      ],
      "execution_count": 15,
      "outputs": []
    },
    {
      "cell_type": "code",
      "metadata": {
        "colab": {
          "base_uri": "https://localhost:8080/",
          "height": 224
        },
        "id": "Xj6jLAWT7-yz",
        "outputId": "a517b529-4a38-4445-920a-5fade93cb34b"
      },
      "source": [
        "dados.head()"
      ],
      "execution_count": 16,
      "outputs": [
        {
          "output_type": "execute_result",
          "data": {
            "text/html": [
              "<div>\n",
              "<style scoped>\n",
              "    .dataframe tbody tr th:only-of-type {\n",
              "        vertical-align: middle;\n",
              "    }\n",
              "\n",
              "    .dataframe tbody tr th {\n",
              "        vertical-align: top;\n",
              "    }\n",
              "\n",
              "    .dataframe thead th {\n",
              "        text-align: right;\n",
              "    }\n",
              "</style>\n",
              "<table border=\"1\" class=\"dataframe\">\n",
              "  <thead>\n",
              "    <tr style=\"text-align: right;\">\n",
              "      <th></th>\n",
              "      <th>visitNumber_ultima</th>\n",
              "      <th>channelGrouping_ultima</th>\n",
              "      <th>visitStartTime_ultima</th>\n",
              "      <th>browser_ultima</th>\n",
              "      <th>operatingSystem_ultima</th>\n",
              "      <th>isMobile_ultima</th>\n",
              "      <th>deviceCategory_ultima</th>\n",
              "      <th>continent_ultima</th>\n",
              "      <th>subContinent_ultima</th>\n",
              "      <th>country_ultima</th>\n",
              "      <th>region_ultima</th>\n",
              "      <th>metro_ultima</th>\n",
              "      <th>city_ultima</th>\n",
              "      <th>networkDomain_ultima</th>\n",
              "      <th>campaign_ultima</th>\n",
              "      <th>source_ultima</th>\n",
              "      <th>medium_ultima</th>\n",
              "      <th>visitNumber_primeira</th>\n",
              "      <th>channelGrouping_primeira</th>\n",
              "      <th>visitNumber_primeira.1</th>\n",
              "      <th>visitStartTime_primeira</th>\n",
              "      <th>browser_primeira</th>\n",
              "      <th>operatingSystem_primeira</th>\n",
              "      <th>isMobile_primeira</th>\n",
              "      <th>deviceCategory_primeira</th>\n",
              "      <th>campaign_primeira</th>\n",
              "      <th>source_primeira</th>\n",
              "      <th>medium_primeira</th>\n",
              "      <th>hits</th>\n",
              "      <th>pageviews</th>\n",
              "      <th>bounces</th>\n",
              "      <th>newVisits</th>\n",
              "      <th>transactionRevenue</th>\n",
              "      <th>tempo_dif</th>\n",
              "      <th>total_visitas_usuario</th>\n",
              "      <th>ano_ultima</th>\n",
              "      <th>mes_ultima</th>\n",
              "      <th>dia_ultima</th>\n",
              "    </tr>\n",
              "  </thead>\n",
              "  <tbody>\n",
              "    <tr>\n",
              "      <th>0</th>\n",
              "      <td>1</td>\n",
              "      <td>7</td>\n",
              "      <td>1472974804</td>\n",
              "      <td>7</td>\n",
              "      <td>9</td>\n",
              "      <td>False</td>\n",
              "      <td>0</td>\n",
              "      <td>4</td>\n",
              "      <td>7</td>\n",
              "      <td>135</td>\n",
              "      <td>205</td>\n",
              "      <td>50</td>\n",
              "      <td>286</td>\n",
              "      <td>1652</td>\n",
              "      <td>0</td>\n",
              "      <td>74</td>\n",
              "      <td>6</td>\n",
              "      <td>1</td>\n",
              "      <td>7</td>\n",
              "      <td>1</td>\n",
              "      <td>1472974804</td>\n",
              "      <td>7</td>\n",
              "      <td>9</td>\n",
              "      <td>False</td>\n",
              "      <td>0</td>\n",
              "      <td>0</td>\n",
              "      <td>72</td>\n",
              "      <td>6</td>\n",
              "      <td>1</td>\n",
              "      <td>1</td>\n",
              "      <td>1.0</td>\n",
              "      <td>1.0</td>\n",
              "      <td>0.0</td>\n",
              "      <td>0</td>\n",
              "      <td>1</td>\n",
              "      <td>2016</td>\n",
              "      <td>9</td>\n",
              "      <td>4</td>\n",
              "    </tr>\n",
              "    <tr>\n",
              "      <th>1</th>\n",
              "      <td>1</td>\n",
              "      <td>4</td>\n",
              "      <td>1475084026</td>\n",
              "      <td>5</td>\n",
              "      <td>3</td>\n",
              "      <td>False</td>\n",
              "      <td>0</td>\n",
              "      <td>2</td>\n",
              "      <td>11</td>\n",
              "      <td>138</td>\n",
              "      <td>116</td>\n",
              "      <td>20</td>\n",
              "      <td>120</td>\n",
              "      <td>0</td>\n",
              "      <td>0</td>\n",
              "      <td>23</td>\n",
              "      <td>5</td>\n",
              "      <td>1</td>\n",
              "      <td>4</td>\n",
              "      <td>1</td>\n",
              "      <td>1475084026</td>\n",
              "      <td>5</td>\n",
              "      <td>3</td>\n",
              "      <td>False</td>\n",
              "      <td>0</td>\n",
              "      <td>0</td>\n",
              "      <td>20</td>\n",
              "      <td>5</td>\n",
              "      <td>4</td>\n",
              "      <td>3</td>\n",
              "      <td>0.0</td>\n",
              "      <td>1.0</td>\n",
              "      <td>0.0</td>\n",
              "      <td>0</td>\n",
              "      <td>1</td>\n",
              "      <td>2016</td>\n",
              "      <td>9</td>\n",
              "      <td>28</td>\n",
              "    </tr>\n",
              "    <tr>\n",
              "      <th>2</th>\n",
              "      <td>1</td>\n",
              "      <td>7</td>\n",
              "      <td>1480996024</td>\n",
              "      <td>5</td>\n",
              "      <td>9</td>\n",
              "      <td>False</td>\n",
              "      <td>0</td>\n",
              "      <td>3</td>\n",
              "      <td>15</td>\n",
              "      <td>101</td>\n",
              "      <td>205</td>\n",
              "      <td>50</td>\n",
              "      <td>286</td>\n",
              "      <td>1106</td>\n",
              "      <td>0</td>\n",
              "      <td>74</td>\n",
              "      <td>6</td>\n",
              "      <td>1</td>\n",
              "      <td>7</td>\n",
              "      <td>1</td>\n",
              "      <td>1480996024</td>\n",
              "      <td>5</td>\n",
              "      <td>9</td>\n",
              "      <td>False</td>\n",
              "      <td>0</td>\n",
              "      <td>0</td>\n",
              "      <td>72</td>\n",
              "      <td>6</td>\n",
              "      <td>2</td>\n",
              "      <td>2</td>\n",
              "      <td>0.0</td>\n",
              "      <td>1.0</td>\n",
              "      <td>0.0</td>\n",
              "      <td>0</td>\n",
              "      <td>1</td>\n",
              "      <td>2016</td>\n",
              "      <td>12</td>\n",
              "      <td>5</td>\n",
              "    </tr>\n",
              "    <tr>\n",
              "      <th>3</th>\n",
              "      <td>1</td>\n",
              "      <td>7</td>\n",
              "      <td>1475423502</td>\n",
              "      <td>15</td>\n",
              "      <td>9</td>\n",
              "      <td>False</td>\n",
              "      <td>0</td>\n",
              "      <td>4</td>\n",
              "      <td>7</td>\n",
              "      <td>106</td>\n",
              "      <td>24</td>\n",
              "      <td>0</td>\n",
              "      <td>37</td>\n",
              "      <td>1165</td>\n",
              "      <td>0</td>\n",
              "      <td>74</td>\n",
              "      <td>6</td>\n",
              "      <td>1</td>\n",
              "      <td>7</td>\n",
              "      <td>1</td>\n",
              "      <td>1475423502</td>\n",
              "      <td>15</td>\n",
              "      <td>9</td>\n",
              "      <td>False</td>\n",
              "      <td>0</td>\n",
              "      <td>0</td>\n",
              "      <td>72</td>\n",
              "      <td>6</td>\n",
              "      <td>1</td>\n",
              "      <td>1</td>\n",
              "      <td>1.0</td>\n",
              "      <td>1.0</td>\n",
              "      <td>0.0</td>\n",
              "      <td>0</td>\n",
              "      <td>1</td>\n",
              "      <td>2016</td>\n",
              "      <td>10</td>\n",
              "      <td>2</td>\n",
              "    </tr>\n",
              "    <tr>\n",
              "      <th>4</th>\n",
              "      <td>6</td>\n",
              "      <td>2</td>\n",
              "      <td>1492707286</td>\n",
              "      <td>18</td>\n",
              "      <td>6</td>\n",
              "      <td>False</td>\n",
              "      <td>0</td>\n",
              "      <td>2</td>\n",
              "      <td>11</td>\n",
              "      <td>138</td>\n",
              "      <td>205</td>\n",
              "      <td>50</td>\n",
              "      <td>286</td>\n",
              "      <td>333</td>\n",
              "      <td>0</td>\n",
              "      <td>0</td>\n",
              "      <td>0</td>\n",
              "      <td>6</td>\n",
              "      <td>2</td>\n",
              "      <td>6</td>\n",
              "      <td>1492707286</td>\n",
              "      <td>18</td>\n",
              "      <td>6</td>\n",
              "      <td>False</td>\n",
              "      <td>0</td>\n",
              "      <td>0</td>\n",
              "      <td>0</td>\n",
              "      <td>0</td>\n",
              "      <td>2</td>\n",
              "      <td>2</td>\n",
              "      <td>0.0</td>\n",
              "      <td>0.0</td>\n",
              "      <td>0.0</td>\n",
              "      <td>0</td>\n",
              "      <td>1</td>\n",
              "      <td>2017</td>\n",
              "      <td>4</td>\n",
              "      <td>20</td>\n",
              "    </tr>\n",
              "  </tbody>\n",
              "</table>\n",
              "</div>"
            ],
            "text/plain": [
              "   visitNumber_ultima  channelGrouping_ultima  ...  mes_ultima  dia_ultima\n",
              "0                   1                       7  ...           9           4\n",
              "1                   1                       4  ...           9          28\n",
              "2                   1                       7  ...          12           5\n",
              "3                   1                       7  ...          10           2\n",
              "4                   6                       2  ...           4          20\n",
              "\n",
              "[5 rows x 38 columns]"
            ]
          },
          "metadata": {
            "tags": []
          },
          "execution_count": 16
        }
      ]
    },
    {
      "cell_type": "code",
      "metadata": {
        "colab": {
          "base_uri": "https://localhost:8080/"
        },
        "id": "Ok3ctdcks4dI",
        "outputId": "39543643-4b18-46a4-a21d-5942bf82d1a0"
      },
      "source": [
        "dados.info()"
      ],
      "execution_count": 17,
      "outputs": [
        {
          "output_type": "stream",
          "text": [
            "<class 'pandas.core.frame.DataFrame'>\n",
            "RangeIndex: 9997 entries, 0 to 9996\n",
            "Data columns (total 38 columns):\n",
            " #   Column                    Non-Null Count  Dtype  \n",
            "---  ------                    --------------  -----  \n",
            " 0   visitNumber_ultima        9997 non-null   int64  \n",
            " 1   channelGrouping_ultima    9997 non-null   int64  \n",
            " 2   visitStartTime_ultima     9997 non-null   int64  \n",
            " 3   browser_ultima            9997 non-null   int64  \n",
            " 4   operatingSystem_ultima    9997 non-null   int64  \n",
            " 5   isMobile_ultima           9997 non-null   bool   \n",
            " 6   deviceCategory_ultima     9997 non-null   int64  \n",
            " 7   continent_ultima          9997 non-null   int64  \n",
            " 8   subContinent_ultima       9997 non-null   int64  \n",
            " 9   country_ultima            9997 non-null   int64  \n",
            " 10  region_ultima             9997 non-null   int64  \n",
            " 11  metro_ultima              9997 non-null   int64  \n",
            " 12  city_ultima               9997 non-null   int64  \n",
            " 13  networkDomain_ultima      9997 non-null   int64  \n",
            " 14  campaign_ultima           9997 non-null   int64  \n",
            " 15  source_ultima             9997 non-null   int64  \n",
            " 16  medium_ultima             9997 non-null   int64  \n",
            " 17  visitNumber_primeira      9997 non-null   int64  \n",
            " 18  channelGrouping_primeira  9997 non-null   int64  \n",
            " 19  visitNumber_primeira.1    9997 non-null   int64  \n",
            " 20  visitStartTime_primeira   9997 non-null   int64  \n",
            " 21  browser_primeira          9997 non-null   int64  \n",
            " 22  operatingSystem_primeira  9997 non-null   int64  \n",
            " 23  isMobile_primeira         9997 non-null   bool   \n",
            " 24  deviceCategory_primeira   9997 non-null   int64  \n",
            " 25  campaign_primeira         9997 non-null   int64  \n",
            " 26  source_primeira           9997 non-null   int64  \n",
            " 27  medium_primeira           9997 non-null   int64  \n",
            " 28  hits                      9997 non-null   int64  \n",
            " 29  pageviews                 9997 non-null   int64  \n",
            " 30  bounces                   9997 non-null   float64\n",
            " 31  newVisits                 9997 non-null   float64\n",
            " 32  transactionRevenue        9997 non-null   float64\n",
            " 33  tempo_dif                 9997 non-null   int64  \n",
            " 34  total_visitas_usuario     9997 non-null   int64  \n",
            " 35  ano_ultima                9997 non-null   int64  \n",
            " 36  mes_ultima                9997 non-null   int64  \n",
            " 37  dia_ultima                9997 non-null   int64  \n",
            "dtypes: bool(2), float64(3), int64(33)\n",
            "memory usage: 2.8 MB\n"
          ],
          "name": "stdout"
        }
      ]
    },
    {
      "cell_type": "markdown",
      "metadata": {
        "id": "fMY7htpW5nwP"
      },
      "source": [
        "- Tratando as colunas do tipo bool."
      ]
    },
    {
      "cell_type": "code",
      "metadata": {
        "id": "zXAGUbwB5dui"
      },
      "source": [
        "dados['isMobile_primeira'] = dados['isMobile_primeira'].apply( lambda x: 1 if x == True else 0)\n",
        "dados['isMobile_ultima'] = dados['isMobile_ultima'].apply( lambda x: 1 if x == True else 0)"
      ],
      "execution_count": 18,
      "outputs": []
    },
    {
      "cell_type": "markdown",
      "metadata": {
        "id": "p9DvWx1N6yMo"
      },
      "source": [
        "- Visualizando a distribuição dos dados."
      ]
    },
    {
      "cell_type": "code",
      "metadata": {
        "colab": {
          "base_uri": "https://localhost:8080/",
          "height": 1000
        },
        "id": "rlsIOFiq6xJ5",
        "outputId": "9d2c76b9-f1ce-4388-db46-2105579cfcf8"
      },
      "source": [
        "dados.hist(figsize=(20,20))\n",
        "plt.show()"
      ],
      "execution_count": 19,
      "outputs": [
        {
          "output_type": "display_data",
          "data": {
            "image/png": "[encoded data removed]",
            "text/plain": [
              "<Figure size 1440x1440 with 42 Axes>"
            ]
          },
          "metadata": {
            "tags": [],
            "needs_background": "light"
          }
        }
      ]
    },
    {
      "cell_type": "markdown",
      "metadata": {
        "id": "AHvombyK-IKf"
      },
      "source": [
        "- Tratando outliers e normalizando os dados."
      ]
    },
    {
      "cell_type": "code",
      "metadata": {
        "colab": {
          "base_uri": "https://localhost:8080/",
          "height": 162
        },
        "id": "F3BsDzgp9oUO",
        "outputId": "0d9463ac-0f40-4680-a6de-0ae640f51fe4"
      },
      "source": [
        "dados.query('tempo_dif < 0')"
      ],
      "execution_count": 20,
      "outputs": [
        {
          "output_type": "execute_result",
          "data": {
            "text/html": [
              "<div>\n",
              "<style scoped>\n",
              "    .dataframe tbody tr th:only-of-type {\n",
              "        vertical-align: middle;\n",
              "    }\n",
              "\n",
              "    .dataframe tbody tr th {\n",
              "        vertical-align: top;\n",
              "    }\n",
              "\n",
              "    .dataframe thead th {\n",
              "        text-align: right;\n",
              "    }\n",
              "</style>\n",
              "<table border=\"1\" class=\"dataframe\">\n",
              "  <thead>\n",
              "    <tr style=\"text-align: right;\">\n",
              "      <th></th>\n",
              "      <th>visitNumber_ultima</th>\n",
              "      <th>channelGrouping_ultima</th>\n",
              "      <th>visitStartTime_ultima</th>\n",
              "      <th>browser_ultima</th>\n",
              "      <th>operatingSystem_ultima</th>\n",
              "      <th>isMobile_ultima</th>\n",
              "      <th>deviceCategory_ultima</th>\n",
              "      <th>continent_ultima</th>\n",
              "      <th>subContinent_ultima</th>\n",
              "      <th>country_ultima</th>\n",
              "      <th>region_ultima</th>\n",
              "      <th>metro_ultima</th>\n",
              "      <th>city_ultima</th>\n",
              "      <th>networkDomain_ultima</th>\n",
              "      <th>campaign_ultima</th>\n",
              "      <th>source_ultima</th>\n",
              "      <th>medium_ultima</th>\n",
              "      <th>visitNumber_primeira</th>\n",
              "      <th>channelGrouping_primeira</th>\n",
              "      <th>visitNumber_primeira.1</th>\n",
              "      <th>visitStartTime_primeira</th>\n",
              "      <th>browser_primeira</th>\n",
              "      <th>operatingSystem_primeira</th>\n",
              "      <th>isMobile_primeira</th>\n",
              "      <th>deviceCategory_primeira</th>\n",
              "      <th>campaign_primeira</th>\n",
              "      <th>source_primeira</th>\n",
              "      <th>medium_primeira</th>\n",
              "      <th>hits</th>\n",
              "      <th>pageviews</th>\n",
              "      <th>bounces</th>\n",
              "      <th>newVisits</th>\n",
              "      <th>transactionRevenue</th>\n",
              "      <th>tempo_dif</th>\n",
              "      <th>total_visitas_usuario</th>\n",
              "      <th>ano_ultima</th>\n",
              "      <th>mes_ultima</th>\n",
              "      <th>dia_ultima</th>\n",
              "    </tr>\n",
              "  </thead>\n",
              "  <tbody>\n",
              "    <tr>\n",
              "      <th>1982</th>\n",
              "      <td>2</td>\n",
              "      <td>6</td>\n",
              "      <td>1477336424</td>\n",
              "      <td>5</td>\n",
              "      <td>6</td>\n",
              "      <td>0</td>\n",
              "      <td>0</td>\n",
              "      <td>2</td>\n",
              "      <td>11</td>\n",
              "      <td>138</td>\n",
              "      <td>114</td>\n",
              "      <td>13</td>\n",
              "      <td>8</td>\n",
              "      <td>0</td>\n",
              "      <td>0</td>\n",
              "      <td>47</td>\n",
              "      <td>6</td>\n",
              "      <td>1</td>\n",
              "      <td>2</td>\n",
              "      <td>1</td>\n",
              "      <td>1477495520</td>\n",
              "      <td>5</td>\n",
              "      <td>6</td>\n",
              "      <td>0</td>\n",
              "      <td>0</td>\n",
              "      <td>0</td>\n",
              "      <td>0</td>\n",
              "      <td>0</td>\n",
              "      <td>27</td>\n",
              "      <td>15</td>\n",
              "      <td>1.0</td>\n",
              "      <td>1.0</td>\n",
              "      <td>0.0</td>\n",
              "      <td>-159096</td>\n",
              "      <td>2</td>\n",
              "      <td>2016</td>\n",
              "      <td>10</td>\n",
              "      <td>24</td>\n",
              "    </tr>\n",
              "    <tr>\n",
              "      <th>5396</th>\n",
              "      <td>10</td>\n",
              "      <td>6</td>\n",
              "      <td>1472664529</td>\n",
              "      <td>5</td>\n",
              "      <td>5</td>\n",
              "      <td>0</td>\n",
              "      <td>0</td>\n",
              "      <td>2</td>\n",
              "      <td>11</td>\n",
              "      <td>138</td>\n",
              "      <td>28</td>\n",
              "      <td>43</td>\n",
              "      <td>248</td>\n",
              "      <td>0</td>\n",
              "      <td>0</td>\n",
              "      <td>47</td>\n",
              "      <td>6</td>\n",
              "      <td>1</td>\n",
              "      <td>2</td>\n",
              "      <td>1</td>\n",
              "      <td>1493663042</td>\n",
              "      <td>5</td>\n",
              "      <td>5</td>\n",
              "      <td>0</td>\n",
              "      <td>0</td>\n",
              "      <td>0</td>\n",
              "      <td>0</td>\n",
              "      <td>0</td>\n",
              "      <td>46</td>\n",
              "      <td>35</td>\n",
              "      <td>1.0</td>\n",
              "      <td>1.0</td>\n",
              "      <td>0.0</td>\n",
              "      <td>-20998513</td>\n",
              "      <td>4</td>\n",
              "      <td>2016</td>\n",
              "      <td>8</td>\n",
              "      <td>31</td>\n",
              "    </tr>\n",
              "    <tr>\n",
              "      <th>8481</th>\n",
              "      <td>10</td>\n",
              "      <td>4</td>\n",
              "      <td>1474917695</td>\n",
              "      <td>18</td>\n",
              "      <td>11</td>\n",
              "      <td>1</td>\n",
              "      <td>1</td>\n",
              "      <td>2</td>\n",
              "      <td>11</td>\n",
              "      <td>138</td>\n",
              "      <td>205</td>\n",
              "      <td>50</td>\n",
              "      <td>286</td>\n",
              "      <td>1714</td>\n",
              "      <td>0</td>\n",
              "      <td>23</td>\n",
              "      <td>5</td>\n",
              "      <td>1</td>\n",
              "      <td>4</td>\n",
              "      <td>1</td>\n",
              "      <td>1493220529</td>\n",
              "      <td>18</td>\n",
              "      <td>11</td>\n",
              "      <td>1</td>\n",
              "      <td>1</td>\n",
              "      <td>0</td>\n",
              "      <td>20</td>\n",
              "      <td>5</td>\n",
              "      <td>3</td>\n",
              "      <td>3</td>\n",
              "      <td>1.0</td>\n",
              "      <td>1.0</td>\n",
              "      <td>0.0</td>\n",
              "      <td>-18302834</td>\n",
              "      <td>2</td>\n",
              "      <td>2016</td>\n",
              "      <td>9</td>\n",
              "      <td>26</td>\n",
              "    </tr>\n",
              "  </tbody>\n",
              "</table>\n",
              "</div>"
            ],
            "text/plain": [
              "      visitNumber_ultima  channelGrouping_ultima  ...  mes_ultima  dia_ultima\n",
              "1982                   2                       6  ...          10          24\n",
              "5396                  10                       6  ...           8          31\n",
              "8481                  10                       4  ...           9          26\n",
              "\n",
              "[3 rows x 38 columns]"
            ]
          },
          "metadata": {
            "tags": []
          },
          "execution_count": 20
        }
      ]
    },
    {
      "cell_type": "code",
      "metadata": {
        "id": "DRU4GcFT-Niq"
      },
      "source": [
        "dados_ml = dados.query('tempo_dif >= 0')\n",
        "dados_ml = dados_ml.reset_index(drop=True)"
      ],
      "execution_count": 21,
      "outputs": []
    },
    {
      "cell_type": "code",
      "metadata": {
        "id": "MAZK-aGK7xJh"
      },
      "source": [
        "lista_colunas  = dados_ml.columns"
      ],
      "execution_count": 22,
      "outputs": []
    },
    {
      "cell_type": "code",
      "metadata": {
        "colab": {
          "base_uri": "https://localhost:8080/"
        },
        "id": "lIJaA50-BVst",
        "outputId": "364ac1dc-f7fa-4535-d548-03f1b1b2b238"
      },
      "source": [
        "lista_colunas"
      ],
      "execution_count": 23,
      "outputs": [
        {
          "output_type": "execute_result",
          "data": {
            "text/plain": [
              "Index(['visitNumber_ultima', 'channelGrouping_ultima', 'visitStartTime_ultima',\n",
              "       'browser_ultima', 'operatingSystem_ultima', 'isMobile_ultima',\n",
              "       'deviceCategory_ultima', 'continent_ultima', 'subContinent_ultima',\n",
              "       'country_ultima', 'region_ultima', 'metro_ultima', 'city_ultima',\n",
              "       'networkDomain_ultima', 'campaign_ultima', 'source_ultima',\n",
              "       'medium_ultima', 'visitNumber_primeira', 'channelGrouping_primeira',\n",
              "       'visitNumber_primeira.1', 'visitStartTime_primeira', 'browser_primeira',\n",
              "       'operatingSystem_primeira', 'isMobile_primeira',\n",
              "       'deviceCategory_primeira', 'campaign_primeira', 'source_primeira',\n",
              "       'medium_primeira', 'hits', 'pageviews', 'bounces', 'newVisits',\n",
              "       'transactionRevenue', 'tempo_dif', 'total_visitas_usuario',\n",
              "       'ano_ultima', 'mes_ultima', 'dia_ultima'],\n",
              "      dtype='object')"
            ]
          },
          "metadata": {
            "tags": []
          },
          "execution_count": 23
        }
      ]
    },
    {
      "cell_type": "code",
      "metadata": {
        "id": "D44RWedw6xYj"
      },
      "source": [
        "lista_colunas = lista_colunas.drop(['isMobile_ultima','isMobile_primeira','deviceCategory_ultima','deviceCategory_primeira',\n",
        "                   'continent_ultima','ano_ultima'])"
      ],
      "execution_count": 24,
      "outputs": []
    },
    {
      "cell_type": "code",
      "metadata": {
        "colab": {
          "base_uri": "https://localhost:8080/"
        },
        "id": "VBIBpoGc6xcv",
        "outputId": "5a964e60-934c-4039-96b1-284795b5dc4d"
      },
      "source": [
        "lista_colunas"
      ],
      "execution_count": 25,
      "outputs": [
        {
          "output_type": "execute_result",
          "data": {
            "text/plain": [
              "Index(['visitNumber_ultima', 'channelGrouping_ultima', 'visitStartTime_ultima',\n",
              "       'browser_ultima', 'operatingSystem_ultima', 'subContinent_ultima',\n",
              "       'country_ultima', 'region_ultima', 'metro_ultima', 'city_ultima',\n",
              "       'networkDomain_ultima', 'campaign_ultima', 'source_ultima',\n",
              "       'medium_ultima', 'visitNumber_primeira', 'channelGrouping_primeira',\n",
              "       'visitNumber_primeira.1', 'visitStartTime_primeira', 'browser_primeira',\n",
              "       'operatingSystem_primeira', 'campaign_primeira', 'source_primeira',\n",
              "       'medium_primeira', 'hits', 'pageviews', 'bounces', 'newVisits',\n",
              "       'transactionRevenue', 'tempo_dif', 'total_visitas_usuario',\n",
              "       'mes_ultima', 'dia_ultima'],\n",
              "      dtype='object')"
            ]
          },
          "metadata": {
            "tags": []
          },
          "execution_count": 25
        }
      ]
    },
    {
      "cell_type": "code",
      "metadata": {
        "id": "qLLSTnA4Pqq2"
      },
      "source": [
        "from sklearn.preprocessing import PowerTransformer"
      ],
      "execution_count": 26,
      "outputs": []
    },
    {
      "cell_type": "code",
      "metadata": {
        "id": "-z7zSRWwnYDh"
      },
      "source": [
        "pt = PowerTransformer(standardize=False)"
      ],
      "execution_count": 27,
      "outputs": []
    },
    {
      "cell_type": "code",
      "metadata": {
        "colab": {
          "base_uri": "https://localhost:8080/"
        },
        "id": "EsvNYXQNnoqc",
        "outputId": "ea39fdd9-ea83-47f5-931c-adad252817d0"
      },
      "source": [
        "for col in lista_colunas:\n",
        "  dados_ml[col] = pt.fit_transform(np.array(dados_ml[col]).reshape(-1,1))"
      ],
      "execution_count": 28,
      "outputs": [
        {
          "output_type": "stream",
          "text": [
            "/usr/local/lib/python3.7/dist-packages/sklearn/preprocessing/_data.py:2982: RuntimeWarning: divide by zero encountered in log\n",
            "  loglike = -n_samples / 2 * np.log(x_trans.var())\n",
            "/usr/local/lib/python3.7/dist-packages/sklearn/preprocessing/_data.py:2982: RuntimeWarning: divide by zero encountered in log\n",
            "  loglike = -n_samples / 2 * np.log(x_trans.var())\n"
          ],
          "name": "stderr"
        }
      ]
    },
    {
      "cell_type": "code",
      "metadata": {
        "colab": {
          "base_uri": "https://localhost:8080/",
          "height": 879
        },
        "id": "JhfSmMlBRLmz",
        "outputId": "1aad8686-8ab2-490f-adf3-8f5e5361e14c"
      },
      "source": [
        "dados_ml[lista_colunas].hist(figsize=(15,15))\n",
        "plt.show()"
      ],
      "execution_count": 29,
      "outputs": [
        {
          "output_type": "display_data",
          "data": {
            "image/png": "[encoded data removed]",
            "text/plain": [
              "<Figure size 1080x1080 with 36 Axes>"
            ]
          },
          "metadata": {
            "tags": [],
            "needs_background": "light"
          }
        }
      ]
    },
    {
      "cell_type": "code",
      "metadata": {
        "colab": {
          "base_uri": "https://localhost:8080/",
          "height": 834
        },
        "id": "TY0tU9yMFc0P",
        "outputId": "a6913ad2-bcee-4d80-f188-3ea81649fd25"
      },
      "source": [
        "fig,ax = plt.subplots(3,2, figsize=(15,12))\n",
        "\n",
        "\n",
        "sns.boxplot(ax=ax[0,0],x='hits',data=dados_ml)\n",
        "\n",
        "sns.boxplot(ax=ax[0,1],x='pageviews',data=dados_ml)\n",
        "\n",
        "sns.boxplot(ax=ax[1,0],x='bounces',data=dados_ml)\n",
        "\n",
        "sns.boxplot(ax=ax[1,1],x='newVisits',data=dados_ml)\n",
        "\n",
        "\n",
        "sns.boxplot(ax=ax[2,0],x='tempo_dif',data=dados_ml)\n",
        "\n",
        "sns.boxplot(ax=ax[2,1],x='transactionRevenue',data=dados_ml)\n",
        "\n",
        "ax"
      ],
      "execution_count": 30,
      "outputs": [
        {
          "output_type": "execute_result",
          "data": {
            "text/plain": [
              "array([[<matplotlib.axes._subplots.AxesSubplot object at 0x7f9ea56c6b10>,\n",
              "        <matplotlib.axes._subplots.AxesSubplot object at 0x7f9ea52379d0>],\n",
              "       [<matplotlib.axes._subplots.AxesSubplot object at 0x7f9ea62e2a10>,\n",
              "        <matplotlib.axes._subplots.AxesSubplot object at 0x7f9ea62ebf90>],\n",
              "       [<matplotlib.axes._subplots.AxesSubplot object at 0x7f9ea6338550>,\n",
              "        <matplotlib.axes._subplots.AxesSubplot object at 0x7f9ea5349ad0>]],\n",
              "      dtype=object)"
            ]
          },
          "metadata": {
            "tags": []
          },
          "execution_count": 30
        },
        {
          "output_type": "display_data",
          "data": {
            "image/png": "[encoded data removed]",
            "text/plain": [
              "<Figure size 1080x864 with 6 Axes>"
            ]
          },
          "metadata": {
            "tags": [],
            "needs_background": "light"
          }
        }
      ]
    },
    {
      "cell_type": "markdown",
      "metadata": {
        "id": "e9_C-TpM5sEY"
      },
      "source": [
        "## Machine learning"
      ]
    },
    {
      "cell_type": "markdown",
      "metadata": {
        "id": "v22Itrfg5ac9"
      },
      "source": [
        "- Separando as variáveis de entrada e de saída."
      ]
    },
    {
      "cell_type": "code",
      "metadata": {
        "id": "CbvLswOb5eLl"
      },
      "source": [
        "X = dados_ml.drop('transactionRevenue',axis=1)\n",
        "Y = dados_ml['transactionRevenue']"
      ],
      "execution_count": 31,
      "outputs": []
    },
    {
      "cell_type": "code",
      "metadata": {
        "colab": {
          "base_uri": "https://localhost:8080/",
          "height": 224
        },
        "id": "MMasgzsc9CZ4",
        "outputId": "3d8e6079-4be8-430f-c2d7-3ac32a2768c8"
      },
      "source": [
        "X.head()"
      ],
      "execution_count": 32,
      "outputs": [
        {
          "output_type": "execute_result",
          "data": {
            "text/html": [
              "<div>\n",
              "<style scoped>\n",
              "    .dataframe tbody tr th:only-of-type {\n",
              "        vertical-align: middle;\n",
              "    }\n",
              "\n",
              "    .dataframe tbody tr th {\n",
              "        vertical-align: top;\n",
              "    }\n",
              "\n",
              "    .dataframe thead th {\n",
              "        text-align: right;\n",
              "    }\n",
              "</style>\n",
              "<table border=\"1\" class=\"dataframe\">\n",
              "  <thead>\n",
              "    <tr style=\"text-align: right;\">\n",
              "      <th></th>\n",
              "      <th>visitNumber_ultima</th>\n",
              "      <th>channelGrouping_ultima</th>\n",
              "      <th>visitStartTime_ultima</th>\n",
              "      <th>browser_ultima</th>\n",
              "      <th>operatingSystem_ultima</th>\n",
              "      <th>isMobile_ultima</th>\n",
              "      <th>deviceCategory_ultima</th>\n",
              "      <th>continent_ultima</th>\n",
              "      <th>subContinent_ultima</th>\n",
              "      <th>country_ultima</th>\n",
              "      <th>region_ultima</th>\n",
              "      <th>metro_ultima</th>\n",
              "      <th>city_ultima</th>\n",
              "      <th>networkDomain_ultima</th>\n",
              "      <th>campaign_ultima</th>\n",
              "      <th>source_ultima</th>\n",
              "      <th>medium_ultima</th>\n",
              "      <th>visitNumber_primeira</th>\n",
              "      <th>channelGrouping_primeira</th>\n",
              "      <th>visitNumber_primeira.1</th>\n",
              "      <th>visitStartTime_primeira</th>\n",
              "      <th>browser_primeira</th>\n",
              "      <th>operatingSystem_primeira</th>\n",
              "      <th>isMobile_primeira</th>\n",
              "      <th>deviceCategory_primeira</th>\n",
              "      <th>campaign_primeira</th>\n",
              "      <th>source_primeira</th>\n",
              "      <th>medium_primeira</th>\n",
              "      <th>hits</th>\n",
              "      <th>pageviews</th>\n",
              "      <th>bounces</th>\n",
              "      <th>newVisits</th>\n",
              "      <th>tempo_dif</th>\n",
              "      <th>total_visitas_usuario</th>\n",
              "      <th>ano_ultima</th>\n",
              "      <th>mes_ultima</th>\n",
              "      <th>dia_ultima</th>\n",
              "    </tr>\n",
              "  </thead>\n",
              "  <tbody>\n",
              "    <tr>\n",
              "      <th>0</th>\n",
              "      <td>0.113989</td>\n",
              "      <td>6.371343</td>\n",
              "      <td>0.203847</td>\n",
              "      <td>0.795191</td>\n",
              "      <td>20.848653</td>\n",
              "      <td>0</td>\n",
              "      <td>0</td>\n",
              "      <td>4</td>\n",
              "      <td>7.248486</td>\n",
              "      <td>542.081778</td>\n",
              "      <td>522.763373</td>\n",
              "      <td>32.137269</td>\n",
              "      <td>1435.890030</td>\n",
              "      <td>30.010328</td>\n",
              "      <td>-0.0</td>\n",
              "      <td>14.966855</td>\n",
              "      <td>40.76712</td>\n",
              "      <td>0.03644</td>\n",
              "      <td>6.123770</td>\n",
              "      <td>0.03644</td>\n",
              "      <td>0.203847</td>\n",
              "      <td>0.795191</td>\n",
              "      <td>20.866615</td>\n",
              "      <td>0</td>\n",
              "      <td>0</td>\n",
              "      <td>-0.0</td>\n",
              "      <td>12.495706</td>\n",
              "      <td>36.193633</td>\n",
              "      <td>0.495357</td>\n",
              "      <td>0.484933</td>\n",
              "      <td>0.616863</td>\n",
              "      <td>4.092123</td>\n",
              "      <td>-0.0</td>\n",
              "      <td>0.072665</td>\n",
              "      <td>2016</td>\n",
              "      <td>8.193222</td>\n",
              "      <td>3.048157</td>\n",
              "    </tr>\n",
              "    <tr>\n",
              "      <th>1</th>\n",
              "      <td>0.113989</td>\n",
              "      <td>3.732446</td>\n",
              "      <td>0.203847</td>\n",
              "      <td>0.763388</td>\n",
              "      <td>4.719543</td>\n",
              "      <td>0</td>\n",
              "      <td>0</td>\n",
              "      <td>2</td>\n",
              "      <td>11.487465</td>\n",
              "      <td>558.206025</td>\n",
              "      <td>263.089976</td>\n",
              "      <td>14.487164</td>\n",
              "      <td>452.482688</td>\n",
              "      <td>0.000000</td>\n",
              "      <td>-0.0</td>\n",
              "      <td>7.672954</td>\n",
              "      <td>28.24951</td>\n",
              "      <td>0.03644</td>\n",
              "      <td>3.625041</td>\n",
              "      <td>0.03644</td>\n",
              "      <td>0.203847</td>\n",
              "      <td>0.763388</td>\n",
              "      <td>4.721723</td>\n",
              "      <td>0</td>\n",
              "      <td>0</td>\n",
              "      <td>-0.0</td>\n",
              "      <td>6.321923</td>\n",
              "      <td>25.367940</td>\n",
              "      <td>0.785637</td>\n",
              "      <td>0.711108</td>\n",
              "      <td>-0.000000</td>\n",
              "      <td>4.092123</td>\n",
              "      <td>-0.0</td>\n",
              "      <td>0.072665</td>\n",
              "      <td>2016</td>\n",
              "      <td>8.193222</td>\n",
              "      <td>14.435717</td>\n",
              "    </tr>\n",
              "    <tr>\n",
              "      <th>2</th>\n",
              "      <td>0.113989</td>\n",
              "      <td>6.371343</td>\n",
              "      <td>0.203847</td>\n",
              "      <td>0.763388</td>\n",
              "      <td>20.848653</td>\n",
              "      <td>0</td>\n",
              "      <td>0</td>\n",
              "      <td>3</td>\n",
              "      <td>15.762994</td>\n",
              "      <td>368.273566</td>\n",
              "      <td>522.763373</td>\n",
              "      <td>32.137269</td>\n",
              "      <td>1435.890030</td>\n",
              "      <td>26.043815</td>\n",
              "      <td>-0.0</td>\n",
              "      <td>14.966855</td>\n",
              "      <td>40.76712</td>\n",
              "      <td>0.03644</td>\n",
              "      <td>6.123770</td>\n",
              "      <td>0.03644</td>\n",
              "      <td>0.203847</td>\n",
              "      <td>0.763388</td>\n",
              "      <td>20.866615</td>\n",
              "      <td>0</td>\n",
              "      <td>0</td>\n",
              "      <td>-0.0</td>\n",
              "      <td>12.495706</td>\n",
              "      <td>36.193633</td>\n",
              "      <td>0.657606</td>\n",
              "      <td>0.637490</td>\n",
              "      <td>-0.000000</td>\n",
              "      <td>4.092123</td>\n",
              "      <td>-0.0</td>\n",
              "      <td>0.072665</td>\n",
              "      <td>2016</td>\n",
              "      <td>10.780494</td>\n",
              "      <td>3.673243</td>\n",
              "    </tr>\n",
              "    <tr>\n",
              "      <th>3</th>\n",
              "      <td>0.113989</td>\n",
              "      <td>6.371343</td>\n",
              "      <td>0.203847</td>\n",
              "      <td>0.839949</td>\n",
              "      <td>20.848653</td>\n",
              "      <td>0</td>\n",
              "      <td>0</td>\n",
              "      <td>4</td>\n",
              "      <td>7.248486</td>\n",
              "      <td>392.742295</td>\n",
              "      <td>39.891956</td>\n",
              "      <td>0.000000</td>\n",
              "      <td>95.733159</td>\n",
              "      <td>26.529483</td>\n",
              "      <td>-0.0</td>\n",
              "      <td>14.966855</td>\n",
              "      <td>40.76712</td>\n",
              "      <td>0.03644</td>\n",
              "      <td>6.123770</td>\n",
              "      <td>0.03644</td>\n",
              "      <td>0.203847</td>\n",
              "      <td>0.839949</td>\n",
              "      <td>20.866615</td>\n",
              "      <td>0</td>\n",
              "      <td>0</td>\n",
              "      <td>-0.0</td>\n",
              "      <td>12.495706</td>\n",
              "      <td>36.193633</td>\n",
              "      <td>0.495357</td>\n",
              "      <td>0.484933</td>\n",
              "      <td>0.616863</td>\n",
              "      <td>4.092123</td>\n",
              "      <td>-0.0</td>\n",
              "      <td>0.072665</td>\n",
              "      <td>2016</td>\n",
              "      <td>9.060282</td>\n",
              "      <td>1.678711</td>\n",
              "    </tr>\n",
              "    <tr>\n",
              "      <th>4</th>\n",
              "      <td>0.114254</td>\n",
              "      <td>1.913146</td>\n",
              "      <td>0.203847</td>\n",
              "      <td>0.846563</td>\n",
              "      <td>11.881281</td>\n",
              "      <td>0</td>\n",
              "      <td>0</td>\n",
              "      <td>2</td>\n",
              "      <td>11.487465</td>\n",
              "      <td>558.206025</td>\n",
              "      <td>522.763373</td>\n",
              "      <td>32.137269</td>\n",
              "      <td>1435.890030</td>\n",
              "      <td>16.799837</td>\n",
              "      <td>-0.0</td>\n",
              "      <td>0.000000</td>\n",
              "      <td>0.00000</td>\n",
              "      <td>0.03644</td>\n",
              "      <td>1.877578</td>\n",
              "      <td>0.03644</td>\n",
              "      <td>0.203847</td>\n",
              "      <td>0.846563</td>\n",
              "      <td>11.889598</td>\n",
              "      <td>0</td>\n",
              "      <td>0</td>\n",
              "      <td>-0.0</td>\n",
              "      <td>0.000000</td>\n",
              "      <td>0.000000</td>\n",
              "      <td>0.657606</td>\n",
              "      <td>0.637490</td>\n",
              "      <td>-0.000000</td>\n",
              "      <td>0.000000</td>\n",
              "      <td>-0.0</td>\n",
              "      <td>0.072665</td>\n",
              "      <td>2017</td>\n",
              "      <td>3.763145</td>\n",
              "      <td>11.139270</td>\n",
              "    </tr>\n",
              "  </tbody>\n",
              "</table>\n",
              "</div>"
            ],
            "text/plain": [
              "   visitNumber_ultima  channelGrouping_ultima  ...  mes_ultima  dia_ultima\n",
              "0            0.113989                6.371343  ...    8.193222    3.048157\n",
              "1            0.113989                3.732446  ...    8.193222   14.435717\n",
              "2            0.113989                6.371343  ...   10.780494    3.673243\n",
              "3            0.113989                6.371343  ...    9.060282    1.678711\n",
              "4            0.114254                1.913146  ...    3.763145   11.139270\n",
              "\n",
              "[5 rows x 37 columns]"
            ]
          },
          "metadata": {
            "tags": []
          },
          "execution_count": 32
        }
      ]
    },
    {
      "cell_type": "markdown",
      "metadata": {
        "id": "IAU186HR9_e9"
      },
      "source": [
        "- Dividindo as amostras de treino e teste"
      ]
    },
    {
      "cell_type": "code",
      "metadata": {
        "id": "KFztXANn9sXZ"
      },
      "source": [
        "from sklearn.model_selection import train_test_split"
      ],
      "execution_count": 33,
      "outputs": []
    },
    {
      "cell_type": "code",
      "metadata": {
        "id": "IXfd_RHf-FXG"
      },
      "source": [
        "X_treino, X_teste, Y_treino, Y_teste = train_test_split(X,Y, test_size=0.2, random_state=42)"
      ],
      "execution_count": 40,
      "outputs": []
    },
    {
      "cell_type": "markdown",
      "metadata": {
        "id": "L152BPqZC0Bn"
      },
      "source": [
        "### **LinearRegression**"
      ]
    },
    {
      "cell_type": "code",
      "metadata": {
        "id": "TfTQArYt-WIv"
      },
      "source": [
        "from sklearn.linear_model import LinearRegression"
      ],
      "execution_count": 41,
      "outputs": []
    },
    {
      "cell_type": "code",
      "metadata": {
        "id": "YUWYoxUt-cEH"
      },
      "source": [
        "lr = LinearRegression()"
      ],
      "execution_count": 42,
      "outputs": []
    },
    {
      "cell_type": "code",
      "metadata": {
        "colab": {
          "base_uri": "https://localhost:8080/"
        },
        "id": "lAlETtT7-cxp",
        "outputId": "15b5ad1f-0259-44e4-9ab9-4791143183a1"
      },
      "source": [
        "lr.fit(X_treino,Y_treino)"
      ],
      "execution_count": 43,
      "outputs": [
        {
          "output_type": "execute_result",
          "data": {
            "text/plain": [
              "LinearRegression(copy_X=True, fit_intercept=True, n_jobs=None, normalize=False)"
            ]
          },
          "metadata": {
            "tags": []
          },
          "execution_count": 43
        }
      ]
    },
    {
      "cell_type": "code",
      "metadata": {
        "id": "a1S22jUqAZcs"
      },
      "source": [
        "y_pred = lr.predict(X_teste)"
      ],
      "execution_count": 44,
      "outputs": []
    },
    {
      "cell_type": "code",
      "metadata": {
        "colab": {
          "base_uri": "https://localhost:8080/"
        },
        "id": "tp5-jzV5rrLr",
        "outputId": "dc907fb8-8e89-44c6-d227-53c5347c65d6"
      },
      "source": [
        "y_pred.max()"
      ],
      "execution_count": 70,
      "outputs": [
        {
          "output_type": "execute_result",
          "data": {
            "text/plain": [
              "0.010025709518231452"
            ]
          },
          "metadata": {
            "tags": []
          },
          "execution_count": 70
        }
      ]
    },
    {
      "cell_type": "code",
      "metadata": {
        "id": "G8XbIsZi-zHH"
      },
      "source": [
        "resultados = pd.DataFrame()\n",
        "resultados['revenue'] = Y_teste\n",
        "resultados['predict'] = y_pred\n",
        "resultados['erro'] = lr.predict(X_teste) - Y_teste"
      ],
      "execution_count": 45,
      "outputs": []
    },
    {
      "cell_type": "code",
      "metadata": {
        "colab": {
          "base_uri": "https://localhost:8080/",
          "height": 204
        },
        "id": "oV80P3ubBtdR",
        "outputId": "d5bb5918-d27b-48b2-dd7e-36067c02bfc1"
      },
      "source": [
        "resultados.head()"
      ],
      "execution_count": 46,
      "outputs": [
        {
          "output_type": "execute_result",
          "data": {
            "text/html": [
              "<div>\n",
              "<style scoped>\n",
              "    .dataframe tbody tr th:only-of-type {\n",
              "        vertical-align: middle;\n",
              "    }\n",
              "\n",
              "    .dataframe tbody tr th {\n",
              "        vertical-align: top;\n",
              "    }\n",
              "\n",
              "    .dataframe thead th {\n",
              "        text-align: right;\n",
              "    }\n",
              "</style>\n",
              "<table border=\"1\" class=\"dataframe\">\n",
              "  <thead>\n",
              "    <tr style=\"text-align: right;\">\n",
              "      <th></th>\n",
              "      <th>revenue</th>\n",
              "      <th>predict</th>\n",
              "      <th>erro</th>\n",
              "    </tr>\n",
              "  </thead>\n",
              "  <tbody>\n",
              "    <tr>\n",
              "      <th>3125</th>\n",
              "      <td>-0.0</td>\n",
              "      <td>0.000179</td>\n",
              "      <td>0.000179</td>\n",
              "    </tr>\n",
              "    <tr>\n",
              "      <th>1441</th>\n",
              "      <td>-0.0</td>\n",
              "      <td>-0.000638</td>\n",
              "      <td>-0.000638</td>\n",
              "    </tr>\n",
              "    <tr>\n",
              "      <th>4510</th>\n",
              "      <td>-0.0</td>\n",
              "      <td>0.003934</td>\n",
              "      <td>0.003934</td>\n",
              "    </tr>\n",
              "    <tr>\n",
              "      <th>39</th>\n",
              "      <td>-0.0</td>\n",
              "      <td>0.001130</td>\n",
              "      <td>0.001130</td>\n",
              "    </tr>\n",
              "    <tr>\n",
              "      <th>4509</th>\n",
              "      <td>-0.0</td>\n",
              "      <td>0.001392</td>\n",
              "      <td>0.001392</td>\n",
              "    </tr>\n",
              "  </tbody>\n",
              "</table>\n",
              "</div>"
            ],
            "text/plain": [
              "      revenue   predict      erro\n",
              "3125     -0.0  0.000179  0.000179\n",
              "1441     -0.0 -0.000638 -0.000638\n",
              "4510     -0.0  0.003934  0.003934\n",
              "39       -0.0  0.001130  0.001130\n",
              "4509     -0.0  0.001392  0.001392"
            ]
          },
          "metadata": {
            "tags": []
          },
          "execution_count": 46
        }
      ]
    },
    {
      "cell_type": "markdown",
      "metadata": {
        "id": "8WQqL4O5BwQ-"
      },
      "source": [
        "- Como em alguns está sendo previsto um valor negativo a ser gasto, será feito um ajuste quanto a isso."
      ]
    },
    {
      "cell_type": "code",
      "metadata": {
        "id": "7Aob2fw0CEsl"
      },
      "source": [
        "y_pred[y_pred < 0] = 0"
      ],
      "execution_count": 47,
      "outputs": []
    },
    {
      "cell_type": "code",
      "metadata": {
        "colab": {
          "base_uri": "https://localhost:8080/",
          "height": 204
        },
        "id": "RZ2exCj8CKKc",
        "outputId": "c3f5e780-bbda-4868-c4b5-65bb2edb9c18"
      },
      "source": [
        "resultados = pd.DataFrame()\n",
        "resultados['revenue'] = Y_teste\n",
        "resultados['predict'] = y_pred\n",
        "resultados['erro'] = y_pred - Y_teste\n",
        "resultados.head()"
      ],
      "execution_count": 48,
      "outputs": [
        {
          "output_type": "execute_result",
          "data": {
            "text/html": [
              "<div>\n",
              "<style scoped>\n",
              "    .dataframe tbody tr th:only-of-type {\n",
              "        vertical-align: middle;\n",
              "    }\n",
              "\n",
              "    .dataframe tbody tr th {\n",
              "        vertical-align: top;\n",
              "    }\n",
              "\n",
              "    .dataframe thead th {\n",
              "        text-align: right;\n",
              "    }\n",
              "</style>\n",
              "<table border=\"1\" class=\"dataframe\">\n",
              "  <thead>\n",
              "    <tr style=\"text-align: right;\">\n",
              "      <th></th>\n",
              "      <th>revenue</th>\n",
              "      <th>predict</th>\n",
              "      <th>erro</th>\n",
              "    </tr>\n",
              "  </thead>\n",
              "  <tbody>\n",
              "    <tr>\n",
              "      <th>3125</th>\n",
              "      <td>-0.0</td>\n",
              "      <td>0.000179</td>\n",
              "      <td>0.000179</td>\n",
              "    </tr>\n",
              "    <tr>\n",
              "      <th>1441</th>\n",
              "      <td>-0.0</td>\n",
              "      <td>0.000000</td>\n",
              "      <td>0.000000</td>\n",
              "    </tr>\n",
              "    <tr>\n",
              "      <th>4510</th>\n",
              "      <td>-0.0</td>\n",
              "      <td>0.003934</td>\n",
              "      <td>0.003934</td>\n",
              "    </tr>\n",
              "    <tr>\n",
              "      <th>39</th>\n",
              "      <td>-0.0</td>\n",
              "      <td>0.001130</td>\n",
              "      <td>0.001130</td>\n",
              "    </tr>\n",
              "    <tr>\n",
              "      <th>4509</th>\n",
              "      <td>-0.0</td>\n",
              "      <td>0.001392</td>\n",
              "      <td>0.001392</td>\n",
              "    </tr>\n",
              "  </tbody>\n",
              "</table>\n",
              "</div>"
            ],
            "text/plain": [
              "      revenue   predict      erro\n",
              "3125     -0.0  0.000179  0.000179\n",
              "1441     -0.0  0.000000  0.000000\n",
              "4510     -0.0  0.003934  0.003934\n",
              "39       -0.0  0.001130  0.001130\n",
              "4509     -0.0  0.001392  0.001392"
            ]
          },
          "metadata": {
            "tags": []
          },
          "execution_count": 48
        }
      ]
    },
    {
      "cell_type": "markdown",
      "metadata": {
        "id": "2em0TQ7oCZlJ"
      },
      "source": [
        "- Verificando as previsões quando o valor gasto é maior que zero."
      ]
    },
    {
      "cell_type": "code",
      "metadata": {
        "colab": {
          "base_uri": "https://localhost:8080/",
          "height": 948
        },
        "id": "IdhoU4CG_clH",
        "outputId": "19b22e17-350f-4b49-d055-0d8c1dda3137"
      },
      "source": [
        "resultados[resultados.revenue >0]"
      ],
      "execution_count": 49,
      "outputs": [
        {
          "output_type": "execute_result",
          "data": {
            "text/html": [
              "<div>\n",
              "<style scoped>\n",
              "    .dataframe tbody tr th:only-of-type {\n",
              "        vertical-align: middle;\n",
              "    }\n",
              "\n",
              "    .dataframe tbody tr th {\n",
              "        vertical-align: top;\n",
              "    }\n",
              "\n",
              "    .dataframe thead th {\n",
              "        text-align: right;\n",
              "    }\n",
              "</style>\n",
              "<table border=\"1\" class=\"dataframe\">\n",
              "  <thead>\n",
              "    <tr style=\"text-align: right;\">\n",
              "      <th></th>\n",
              "      <th>revenue</th>\n",
              "      <th>predict</th>\n",
              "      <th>erro</th>\n",
              "    </tr>\n",
              "  </thead>\n",
              "  <tbody>\n",
              "    <tr>\n",
              "      <th>4768</th>\n",
              "      <td>0.058755</td>\n",
              "      <td>0.003504</td>\n",
              "      <td>-0.055251</td>\n",
              "    </tr>\n",
              "    <tr>\n",
              "      <th>532</th>\n",
              "      <td>0.058755</td>\n",
              "      <td>0.003543</td>\n",
              "      <td>-0.055213</td>\n",
              "    </tr>\n",
              "    <tr>\n",
              "      <th>9606</th>\n",
              "      <td>0.058755</td>\n",
              "      <td>0.003908</td>\n",
              "      <td>-0.054847</td>\n",
              "    </tr>\n",
              "    <tr>\n",
              "      <th>8539</th>\n",
              "      <td>0.058755</td>\n",
              "      <td>0.007534</td>\n",
              "      <td>-0.051221</td>\n",
              "    </tr>\n",
              "    <tr>\n",
              "      <th>4076</th>\n",
              "      <td>0.058755</td>\n",
              "      <td>0.002650</td>\n",
              "      <td>-0.056105</td>\n",
              "    </tr>\n",
              "    <tr>\n",
              "      <th>8829</th>\n",
              "      <td>0.058755</td>\n",
              "      <td>0.003283</td>\n",
              "      <td>-0.055472</td>\n",
              "    </tr>\n",
              "    <tr>\n",
              "      <th>568</th>\n",
              "      <td>0.058755</td>\n",
              "      <td>0.006597</td>\n",
              "      <td>-0.052158</td>\n",
              "    </tr>\n",
              "    <tr>\n",
              "      <th>3914</th>\n",
              "      <td>0.058755</td>\n",
              "      <td>0.007798</td>\n",
              "      <td>-0.050958</td>\n",
              "    </tr>\n",
              "    <tr>\n",
              "      <th>4907</th>\n",
              "      <td>0.058755</td>\n",
              "      <td>0.008064</td>\n",
              "      <td>-0.050692</td>\n",
              "    </tr>\n",
              "    <tr>\n",
              "      <th>416</th>\n",
              "      <td>0.058755</td>\n",
              "      <td>0.004876</td>\n",
              "      <td>-0.053879</td>\n",
              "    </tr>\n",
              "    <tr>\n",
              "      <th>8725</th>\n",
              "      <td>0.058755</td>\n",
              "      <td>0.006848</td>\n",
              "      <td>-0.051908</td>\n",
              "    </tr>\n",
              "    <tr>\n",
              "      <th>9082</th>\n",
              "      <td>0.058755</td>\n",
              "      <td>0.003314</td>\n",
              "      <td>-0.055441</td>\n",
              "    </tr>\n",
              "    <tr>\n",
              "      <th>8107</th>\n",
              "      <td>0.058755</td>\n",
              "      <td>0.007028</td>\n",
              "      <td>-0.051727</td>\n",
              "    </tr>\n",
              "    <tr>\n",
              "      <th>5313</th>\n",
              "      <td>0.058755</td>\n",
              "      <td>0.006611</td>\n",
              "      <td>-0.052145</td>\n",
              "    </tr>\n",
              "    <tr>\n",
              "      <th>5908</th>\n",
              "      <td>0.058755</td>\n",
              "      <td>0.004035</td>\n",
              "      <td>-0.054720</td>\n",
              "    </tr>\n",
              "    <tr>\n",
              "      <th>742</th>\n",
              "      <td>0.058755</td>\n",
              "      <td>0.005628</td>\n",
              "      <td>-0.053127</td>\n",
              "    </tr>\n",
              "    <tr>\n",
              "      <th>6604</th>\n",
              "      <td>0.058755</td>\n",
              "      <td>0.004539</td>\n",
              "      <td>-0.054217</td>\n",
              "    </tr>\n",
              "    <tr>\n",
              "      <th>1691</th>\n",
              "      <td>0.058755</td>\n",
              "      <td>0.007301</td>\n",
              "      <td>-0.051454</td>\n",
              "    </tr>\n",
              "    <tr>\n",
              "      <th>5727</th>\n",
              "      <td>0.058755</td>\n",
              "      <td>0.002884</td>\n",
              "      <td>-0.055871</td>\n",
              "    </tr>\n",
              "    <tr>\n",
              "      <th>5500</th>\n",
              "      <td>0.058755</td>\n",
              "      <td>0.003740</td>\n",
              "      <td>-0.055015</td>\n",
              "    </tr>\n",
              "    <tr>\n",
              "      <th>8359</th>\n",
              "      <td>0.058755</td>\n",
              "      <td>0.004719</td>\n",
              "      <td>-0.054036</td>\n",
              "    </tr>\n",
              "    <tr>\n",
              "      <th>9392</th>\n",
              "      <td>0.058755</td>\n",
              "      <td>0.004072</td>\n",
              "      <td>-0.054684</td>\n",
              "    </tr>\n",
              "    <tr>\n",
              "      <th>4598</th>\n",
              "      <td>0.058755</td>\n",
              "      <td>0.005940</td>\n",
              "      <td>-0.052815</td>\n",
              "    </tr>\n",
              "    <tr>\n",
              "      <th>8812</th>\n",
              "      <td>0.058755</td>\n",
              "      <td>0.003763</td>\n",
              "      <td>-0.054992</td>\n",
              "    </tr>\n",
              "    <tr>\n",
              "      <th>2288</th>\n",
              "      <td>0.058755</td>\n",
              "      <td>0.006242</td>\n",
              "      <td>-0.052513</td>\n",
              "    </tr>\n",
              "    <tr>\n",
              "      <th>467</th>\n",
              "      <td>0.058755</td>\n",
              "      <td>0.004267</td>\n",
              "      <td>-0.054488</td>\n",
              "    </tr>\n",
              "    <tr>\n",
              "      <th>6860</th>\n",
              "      <td>0.058755</td>\n",
              "      <td>0.005575</td>\n",
              "      <td>-0.053180</td>\n",
              "    </tr>\n",
              "    <tr>\n",
              "      <th>3032</th>\n",
              "      <td>0.058755</td>\n",
              "      <td>0.003333</td>\n",
              "      <td>-0.055422</td>\n",
              "    </tr>\n",
              "    <tr>\n",
              "      <th>132</th>\n",
              "      <td>0.058755</td>\n",
              "      <td>0.005642</td>\n",
              "      <td>-0.053113</td>\n",
              "    </tr>\n",
              "  </tbody>\n",
              "</table>\n",
              "</div>"
            ],
            "text/plain": [
              "       revenue   predict      erro\n",
              "4768  0.058755  0.003504 -0.055251\n",
              "532   0.058755  0.003543 -0.055213\n",
              "9606  0.058755  0.003908 -0.054847\n",
              "8539  0.058755  0.007534 -0.051221\n",
              "4076  0.058755  0.002650 -0.056105\n",
              "8829  0.058755  0.003283 -0.055472\n",
              "568   0.058755  0.006597 -0.052158\n",
              "3914  0.058755  0.007798 -0.050958\n",
              "4907  0.058755  0.008064 -0.050692\n",
              "416   0.058755  0.004876 -0.053879\n",
              "8725  0.058755  0.006848 -0.051908\n",
              "9082  0.058755  0.003314 -0.055441\n",
              "8107  0.058755  0.007028 -0.051727\n",
              "5313  0.058755  0.006611 -0.052145\n",
              "5908  0.058755  0.004035 -0.054720\n",
              "742   0.058755  0.005628 -0.053127\n",
              "6604  0.058755  0.004539 -0.054217\n",
              "1691  0.058755  0.007301 -0.051454\n",
              "5727  0.058755  0.002884 -0.055871\n",
              "5500  0.058755  0.003740 -0.055015\n",
              "8359  0.058755  0.004719 -0.054036\n",
              "9392  0.058755  0.004072 -0.054684\n",
              "4598  0.058755  0.005940 -0.052815\n",
              "8812  0.058755  0.003763 -0.054992\n",
              "2288  0.058755  0.006242 -0.052513\n",
              "467   0.058755  0.004267 -0.054488\n",
              "6860  0.058755  0.005575 -0.053180\n",
              "3032  0.058755  0.003333 -0.055422\n",
              "132   0.058755  0.005642 -0.053113"
            ]
          },
          "metadata": {
            "tags": []
          },
          "execution_count": 49
        }
      ]
    },
    {
      "cell_type": "markdown",
      "metadata": {
        "id": "QoqgOZRTChoC"
      },
      "source": [
        "- Calculando o erro."
      ]
    },
    {
      "cell_type": "code",
      "metadata": {
        "id": "UnbZpYm6_eog"
      },
      "source": [
        "from sklearn.metrics import  mean_absolute_error, mean_squared_error, r2_score"
      ],
      "execution_count": 50,
      "outputs": []
    },
    {
      "cell_type": "code",
      "metadata": {
        "colab": {
          "base_uri": "https://localhost:8080/"
        },
        "id": "RExghNpi_1t4",
        "outputId": "80cc706e-ca7c-4558-f22c-2f5e264555d5"
      },
      "source": [
        "MAE  = mean_absolute_error(Y_teste,y_pred)\n",
        "MSE  = mean_squared_error(Y_teste,y_pred)\n",
        "RMSE = np.sqrt(mean_squared_error(Y_teste,y_pred))\n",
        "R2 = r2_score(Y_teste, y_pred)\n",
        "\n",
        "print('MAE = {:0.4f}'.format(MAE))\n",
        "print('MSE = {:0.4f}'.format(MSE))\n",
        "print('RMSE = {:0.4f}'.format(RMSE))\n",
        "print('R2 = {:0.4f}'.format(R2))"
      ],
      "execution_count": 52,
      "outputs": [
        {
          "output_type": "stream",
          "text": [
            "MAE = 0.0019\n",
            "MSE = 0.0000\n",
            "RMSE = 0.0068\n",
            "R2 = 0.0693\n"
          ],
          "name": "stdout"
        }
      ]
    },
    {
      "cell_type": "code",
      "metadata": {
        "colab": {
          "base_uri": "https://localhost:8080/"
        },
        "id": "BPerVxCEAewu",
        "outputId": "18fb8215-b64f-4a89-c4c2-8b599b75c9d0"
      },
      "source": [
        "np.std(dados_ml.transactionRevenue)"
      ],
      "execution_count": 92,
      "outputs": [
        {
          "output_type": "execute_result",
          "data": {
            "text/plain": [
              "0.007039638358202582"
            ]
          },
          "metadata": {
            "tags": []
          },
          "execution_count": 92
        }
      ]
    },
    {
      "cell_type": "code",
      "metadata": {
        "colab": {
          "base_uri": "https://localhost:8080/",
          "height": 336
        },
        "id": "VPaDHm8yAtGw",
        "outputId": "7f62d9cc-6432-4c9f-9163-50efb89e8178"
      },
      "source": [
        "sns.boxplot(y_pred)"
      ],
      "execution_count": 54,
      "outputs": [
        {
          "output_type": "stream",
          "text": [
            "/usr/local/lib/python3.7/dist-packages/seaborn/_decorators.py:43: FutureWarning: Pass the following variable as a keyword arg: x. From version 0.12, the only valid positional argument will be `data`, and passing other arguments without an explicit keyword will result in an error or misinterpretation.\n",
            "  FutureWarning\n"
          ],
          "name": "stderr"
        },
        {
          "output_type": "execute_result",
          "data": {
            "text/plain": [
              "<matplotlib.axes._subplots.AxesSubplot at 0x7f9ea25c0e90>"
            ]
          },
          "metadata": {
            "tags": []
          },
          "execution_count": 54
        },
        {
          "output_type": "display_data",
          "data": {
            "image/png": "[encoded data removed]",
            "text/plain": [
              "<Figure size 432x288 with 1 Axes>"
            ]
          },
          "metadata": {
            "tags": [],
            "needs_background": "light"
          }
        }
      ]
    },
    {
      "cell_type": "code",
      "metadata": {
        "colab": {
          "base_uri": "https://localhost:8080/",
          "height": 500
        },
        "id": "Awfx_wmMGjS1",
        "outputId": "e928c373-c456-4a31-f3cc-dd00bd1c830d"
      },
      "source": [
        "plt.figure(figsize=(12,8))\n",
        "plt.plot(Y_teste.values)\n",
        "plt.plot(y_pred)"
      ],
      "execution_count": 55,
      "outputs": [
        {
          "output_type": "execute_result",
          "data": {
            "text/plain": [
              "[<matplotlib.lines.Line2D at 0x7f9ea5c41710>]"
            ]
          },
          "metadata": {
            "tags": []
          },
          "execution_count": 55
        },
        {
          "output_type": "display_data",
          "data": {
            "image/png": "[encoded data removed]",
            "text/plain": [
              "<Figure size 864x576 with 1 Axes>"
            ]
          },
          "metadata": {
            "tags": [],
            "needs_background": "light"
          }
        }
      ]
    },
    {
      "cell_type": "markdown",
      "metadata": {
        "id": "L5gh-T9QDdb5"
      },
      "source": [
        "### **Gradient Boosting**"
      ]
    },
    {
      "cell_type": "code",
      "metadata": {
        "id": "EDkZLkXXDC4B"
      },
      "source": [
        "from sklearn.ensemble import GradientBoostingRegressor"
      ],
      "execution_count": 56,
      "outputs": []
    },
    {
      "cell_type": "code",
      "metadata": {
        "id": "l1wOFWAJDqLR"
      },
      "source": [
        "gb = GradientBoostingRegressor(random_state=42)"
      ],
      "execution_count": 57,
      "outputs": []
    },
    {
      "cell_type": "code",
      "metadata": {
        "colab": {
          "base_uri": "https://localhost:8080/"
        },
        "id": "JCfwrC-BDtXo",
        "outputId": "f121a22f-c346-47e6-f416-2c4162a62a4e"
      },
      "source": [
        "gb.fit(X_treino,Y_treino)"
      ],
      "execution_count": 71,
      "outputs": [
        {
          "output_type": "execute_result",
          "data": {
            "text/plain": [
              "GradientBoostingRegressor(alpha=0.9, ccp_alpha=0.0, criterion='friedman_mse',\n",
              "                          init=None, learning_rate=0.1, loss='ls', max_depth=3,\n",
              "                          max_features=None, max_leaf_nodes=None,\n",
              "                          min_impurity_decrease=0.0, min_impurity_split=None,\n",
              "                          min_samples_leaf=1, min_samples_split=2,\n",
              "                          min_weight_fraction_leaf=0.0, n_estimators=100,\n",
              "                          n_iter_no_change=None, presort='deprecated',\n",
              "                          random_state=42, subsample=1.0, tol=0.0001,\n",
              "                          validation_fraction=0.1, verbose=0, warm_start=False)"
            ]
          },
          "metadata": {
            "tags": []
          },
          "execution_count": 71
        }
      ]
    },
    {
      "cell_type": "code",
      "metadata": {
        "colab": {
          "base_uri": "https://localhost:8080/"
        },
        "id": "fJvvrM8QD0vg",
        "outputId": "923e8690-f991-418e-b42a-574ebac91741"
      },
      "source": [
        "gb.score(X_teste,Y_teste)"
      ],
      "execution_count": 72,
      "outputs": [
        {
          "output_type": "execute_result",
          "data": {
            "text/plain": [
              "0.18150486820980216"
            ]
          },
          "metadata": {
            "tags": []
          },
          "execution_count": 72
        }
      ]
    },
    {
      "cell_type": "code",
      "metadata": {
        "id": "enZtituFD6CO"
      },
      "source": [
        "y_pred_gb = gb.predict(X_teste)"
      ],
      "execution_count": 73,
      "outputs": []
    },
    {
      "cell_type": "code",
      "metadata": {
        "id": "_Si6xXDnEICO"
      },
      "source": [
        "y_pred_gb[y_pred_gb < 0 ] = 0"
      ],
      "execution_count": 79,
      "outputs": []
    },
    {
      "cell_type": "code",
      "metadata": {
        "colab": {
          "base_uri": "https://localhost:8080/",
          "height": 204
        },
        "id": "uG3NGmhpEOpA",
        "outputId": "029d71f2-d90a-4c1b-f9de-ebf56d0876f7"
      },
      "source": [
        "resultados_gb = pd.DataFrame()\n",
        "resultados_gb['revenue'] = Y_teste\n",
        "resultados_gb['predict'] = y_pred_gb\n",
        "resultados_gb['erro'] = y_pred_gb - Y_teste\n",
        "resultados_gb.head()"
      ],
      "execution_count": 80,
      "outputs": [
        {
          "output_type": "execute_result",
          "data": {
            "text/html": [
              "<div>\n",
              "<style scoped>\n",
              "    .dataframe tbody tr th:only-of-type {\n",
              "        vertical-align: middle;\n",
              "    }\n",
              "\n",
              "    .dataframe tbody tr th {\n",
              "        vertical-align: top;\n",
              "    }\n",
              "\n",
              "    .dataframe thead th {\n",
              "        text-align: right;\n",
              "    }\n",
              "</style>\n",
              "<table border=\"1\" class=\"dataframe\">\n",
              "  <thead>\n",
              "    <tr style=\"text-align: right;\">\n",
              "      <th></th>\n",
              "      <th>revenue</th>\n",
              "      <th>predict</th>\n",
              "      <th>erro</th>\n",
              "    </tr>\n",
              "  </thead>\n",
              "  <tbody>\n",
              "    <tr>\n",
              "      <th>3125</th>\n",
              "      <td>-0.0</td>\n",
              "      <td>0.000017</td>\n",
              "      <td>0.000017</td>\n",
              "    </tr>\n",
              "    <tr>\n",
              "      <th>1441</th>\n",
              "      <td>-0.0</td>\n",
              "      <td>0.000015</td>\n",
              "      <td>0.000015</td>\n",
              "    </tr>\n",
              "    <tr>\n",
              "      <th>4510</th>\n",
              "      <td>-0.0</td>\n",
              "      <td>0.000204</td>\n",
              "      <td>0.000204</td>\n",
              "    </tr>\n",
              "    <tr>\n",
              "      <th>39</th>\n",
              "      <td>-0.0</td>\n",
              "      <td>0.000018</td>\n",
              "      <td>0.000018</td>\n",
              "    </tr>\n",
              "    <tr>\n",
              "      <th>4509</th>\n",
              "      <td>-0.0</td>\n",
              "      <td>0.000020</td>\n",
              "      <td>0.000020</td>\n",
              "    </tr>\n",
              "  </tbody>\n",
              "</table>\n",
              "</div>"
            ],
            "text/plain": [
              "      revenue   predict      erro\n",
              "3125     -0.0  0.000017  0.000017\n",
              "1441     -0.0  0.000015  0.000015\n",
              "4510     -0.0  0.000204  0.000204\n",
              "39       -0.0  0.000018  0.000018\n",
              "4509     -0.0  0.000020  0.000020"
            ]
          },
          "metadata": {
            "tags": []
          },
          "execution_count": 80
        }
      ]
    },
    {
      "cell_type": "code",
      "metadata": {
        "colab": {
          "base_uri": "https://localhost:8080/",
          "height": 948
        },
        "id": "U8AGva-WEig6",
        "outputId": "52da6f6c-8b87-49b2-ae60-de07fdc4c028"
      },
      "source": [
        "resultados_gb[resultados_gb.revenue >0]"
      ],
      "execution_count": 81,
      "outputs": [
        {
          "output_type": "execute_result",
          "data": {
            "text/html": [
              "<div>\n",
              "<style scoped>\n",
              "    .dataframe tbody tr th:only-of-type {\n",
              "        vertical-align: middle;\n",
              "    }\n",
              "\n",
              "    .dataframe tbody tr th {\n",
              "        vertical-align: top;\n",
              "    }\n",
              "\n",
              "    .dataframe thead th {\n",
              "        text-align: right;\n",
              "    }\n",
              "</style>\n",
              "<table border=\"1\" class=\"dataframe\">\n",
              "  <thead>\n",
              "    <tr style=\"text-align: right;\">\n",
              "      <th></th>\n",
              "      <th>revenue</th>\n",
              "      <th>predict</th>\n",
              "      <th>erro</th>\n",
              "    </tr>\n",
              "  </thead>\n",
              "  <tbody>\n",
              "    <tr>\n",
              "      <th>4768</th>\n",
              "      <td>0.058755</td>\n",
              "      <td>0.009522</td>\n",
              "      <td>-0.049233</td>\n",
              "    </tr>\n",
              "    <tr>\n",
              "      <th>532</th>\n",
              "      <td>0.058755</td>\n",
              "      <td>0.007622</td>\n",
              "      <td>-0.051133</td>\n",
              "    </tr>\n",
              "    <tr>\n",
              "      <th>9606</th>\n",
              "      <td>0.058755</td>\n",
              "      <td>0.007081</td>\n",
              "      <td>-0.051674</td>\n",
              "    </tr>\n",
              "    <tr>\n",
              "      <th>8539</th>\n",
              "      <td>0.058755</td>\n",
              "      <td>0.066378</td>\n",
              "      <td>0.007622</td>\n",
              "    </tr>\n",
              "    <tr>\n",
              "      <th>4076</th>\n",
              "      <td>0.058755</td>\n",
              "      <td>0.008107</td>\n",
              "      <td>-0.050649</td>\n",
              "    </tr>\n",
              "    <tr>\n",
              "      <th>8829</th>\n",
              "      <td>0.058755</td>\n",
              "      <td>0.003017</td>\n",
              "      <td>-0.055738</td>\n",
              "    </tr>\n",
              "    <tr>\n",
              "      <th>568</th>\n",
              "      <td>0.058755</td>\n",
              "      <td>0.023946</td>\n",
              "      <td>-0.034809</td>\n",
              "    </tr>\n",
              "    <tr>\n",
              "      <th>3914</th>\n",
              "      <td>0.058755</td>\n",
              "      <td>0.011004</td>\n",
              "      <td>-0.047751</td>\n",
              "    </tr>\n",
              "    <tr>\n",
              "      <th>4907</th>\n",
              "      <td>0.058755</td>\n",
              "      <td>0.025813</td>\n",
              "      <td>-0.032942</td>\n",
              "    </tr>\n",
              "    <tr>\n",
              "      <th>416</th>\n",
              "      <td>0.058755</td>\n",
              "      <td>0.018083</td>\n",
              "      <td>-0.040672</td>\n",
              "    </tr>\n",
              "    <tr>\n",
              "      <th>8725</th>\n",
              "      <td>0.058755</td>\n",
              "      <td>0.035541</td>\n",
              "      <td>-0.023214</td>\n",
              "    </tr>\n",
              "    <tr>\n",
              "      <th>9082</th>\n",
              "      <td>0.058755</td>\n",
              "      <td>0.006101</td>\n",
              "      <td>-0.052654</td>\n",
              "    </tr>\n",
              "    <tr>\n",
              "      <th>8107</th>\n",
              "      <td>0.058755</td>\n",
              "      <td>0.038490</td>\n",
              "      <td>-0.020266</td>\n",
              "    </tr>\n",
              "    <tr>\n",
              "      <th>5313</th>\n",
              "      <td>0.058755</td>\n",
              "      <td>0.004414</td>\n",
              "      <td>-0.054341</td>\n",
              "    </tr>\n",
              "    <tr>\n",
              "      <th>5908</th>\n",
              "      <td>0.058755</td>\n",
              "      <td>0.007629</td>\n",
              "      <td>-0.051126</td>\n",
              "    </tr>\n",
              "    <tr>\n",
              "      <th>742</th>\n",
              "      <td>0.058755</td>\n",
              "      <td>0.020557</td>\n",
              "      <td>-0.038198</td>\n",
              "    </tr>\n",
              "    <tr>\n",
              "      <th>6604</th>\n",
              "      <td>0.058755</td>\n",
              "      <td>0.028949</td>\n",
              "      <td>-0.029807</td>\n",
              "    </tr>\n",
              "    <tr>\n",
              "      <th>1691</th>\n",
              "      <td>0.058755</td>\n",
              "      <td>0.033947</td>\n",
              "      <td>-0.024808</td>\n",
              "    </tr>\n",
              "    <tr>\n",
              "      <th>5727</th>\n",
              "      <td>0.058755</td>\n",
              "      <td>0.004630</td>\n",
              "      <td>-0.054125</td>\n",
              "    </tr>\n",
              "    <tr>\n",
              "      <th>5500</th>\n",
              "      <td>0.058755</td>\n",
              "      <td>0.011203</td>\n",
              "      <td>-0.047552</td>\n",
              "    </tr>\n",
              "    <tr>\n",
              "      <th>8359</th>\n",
              "      <td>0.058755</td>\n",
              "      <td>0.018883</td>\n",
              "      <td>-0.039872</td>\n",
              "    </tr>\n",
              "    <tr>\n",
              "      <th>9392</th>\n",
              "      <td>0.058755</td>\n",
              "      <td>0.016255</td>\n",
              "      <td>-0.042500</td>\n",
              "    </tr>\n",
              "    <tr>\n",
              "      <th>4598</th>\n",
              "      <td>0.058755</td>\n",
              "      <td>0.027285</td>\n",
              "      <td>-0.031470</td>\n",
              "    </tr>\n",
              "    <tr>\n",
              "      <th>8812</th>\n",
              "      <td>0.058755</td>\n",
              "      <td>0.023082</td>\n",
              "      <td>-0.035673</td>\n",
              "    </tr>\n",
              "    <tr>\n",
              "      <th>2288</th>\n",
              "      <td>0.058755</td>\n",
              "      <td>0.016354</td>\n",
              "      <td>-0.042401</td>\n",
              "    </tr>\n",
              "    <tr>\n",
              "      <th>467</th>\n",
              "      <td>0.058755</td>\n",
              "      <td>0.008205</td>\n",
              "      <td>-0.050550</td>\n",
              "    </tr>\n",
              "    <tr>\n",
              "      <th>6860</th>\n",
              "      <td>0.058755</td>\n",
              "      <td>0.012441</td>\n",
              "      <td>-0.046314</td>\n",
              "    </tr>\n",
              "    <tr>\n",
              "      <th>3032</th>\n",
              "      <td>0.058755</td>\n",
              "      <td>0.000017</td>\n",
              "      <td>-0.058738</td>\n",
              "    </tr>\n",
              "    <tr>\n",
              "      <th>132</th>\n",
              "      <td>0.058755</td>\n",
              "      <td>0.000072</td>\n",
              "      <td>-0.058683</td>\n",
              "    </tr>\n",
              "  </tbody>\n",
              "</table>\n",
              "</div>"
            ],
            "text/plain": [
              "       revenue   predict      erro\n",
              "4768  0.058755  0.009522 -0.049233\n",
              "532   0.058755  0.007622 -0.051133\n",
              "9606  0.058755  0.007081 -0.051674\n",
              "8539  0.058755  0.066378  0.007622\n",
              "4076  0.058755  0.008107 -0.050649\n",
              "8829  0.058755  0.003017 -0.055738\n",
              "568   0.058755  0.023946 -0.034809\n",
              "3914  0.058755  0.011004 -0.047751\n",
              "4907  0.058755  0.025813 -0.032942\n",
              "416   0.058755  0.018083 -0.040672\n",
              "8725  0.058755  0.035541 -0.023214\n",
              "9082  0.058755  0.006101 -0.052654\n",
              "8107  0.058755  0.038490 -0.020266\n",
              "5313  0.058755  0.004414 -0.054341\n",
              "5908  0.058755  0.007629 -0.051126\n",
              "742   0.058755  0.020557 -0.038198\n",
              "6604  0.058755  0.028949 -0.029807\n",
              "1691  0.058755  0.033947 -0.024808\n",
              "5727  0.058755  0.004630 -0.054125\n",
              "5500  0.058755  0.011203 -0.047552\n",
              "8359  0.058755  0.018883 -0.039872\n",
              "9392  0.058755  0.016255 -0.042500\n",
              "4598  0.058755  0.027285 -0.031470\n",
              "8812  0.058755  0.023082 -0.035673\n",
              "2288  0.058755  0.016354 -0.042401\n",
              "467   0.058755  0.008205 -0.050550\n",
              "6860  0.058755  0.012441 -0.046314\n",
              "3032  0.058755  0.000017 -0.058738\n",
              "132   0.058755  0.000072 -0.058683"
            ]
          },
          "metadata": {
            "tags": []
          },
          "execution_count": 81
        }
      ]
    },
    {
      "cell_type": "code",
      "metadata": {
        "colab": {
          "base_uri": "https://localhost:8080/"
        },
        "id": "IvXNWq6cEY1P",
        "outputId": "4383e470-3b54-4c20-e786-3d47f5572041"
      },
      "source": [
        "MAE  = mean_absolute_error(Y_teste,y_pred_gb)\n",
        "MSE  = mean_squared_error(Y_teste,y_pred_gb)\n",
        "RMSE = np.sqrt(mean_squared_error(Y_teste,y_pred_gb))\n",
        "R2 = r2_score(Y_teste, y_pred_gb)\n",
        "\n",
        "print('MAE = {:0.4f}'.format(MAE))\n",
        "print('MSE = {:0.4f}'.format(MSE))\n",
        "print('RMSE = {:0.4f}'.format(RMSE))\n",
        "print('R2 = {:0.4f}'.format(R2))"
      ],
      "execution_count": 82,
      "outputs": [
        {
          "output_type": "stream",
          "text": [
            "MAE = 0.0013\n",
            "MSE = 0.0000\n",
            "RMSE = 0.0063\n",
            "R2 = 0.1830\n"
          ],
          "name": "stdout"
        }
      ]
    },
    {
      "cell_type": "code",
      "metadata": {
        "colab": {
          "base_uri": "https://localhost:8080/",
          "height": 500
        },
        "id": "ZN_SOu7rEhgq",
        "outputId": "ce65dba0-b915-4c81-a6fb-ea8460d452bc"
      },
      "source": [
        "plt.figure(figsize=(12,8))\n",
        "plt.plot(Y_teste.values)\n",
        "plt.plot(y_pred_gb)"
      ],
      "execution_count": 83,
      "outputs": [
        {
          "output_type": "execute_result",
          "data": {
            "text/plain": [
              "[<matplotlib.lines.Line2D at 0x7f9ea5a03150>]"
            ]
          },
          "metadata": {
            "tags": []
          },
          "execution_count": 83
        },
        {
          "output_type": "display_data",
          "data": {
            "image/png": "[encoded data removed]",
            "text/plain": [
              "<Figure size 864x576 with 1 Axes>"
            ]
          },
          "metadata": {
            "tags": [],
            "needs_background": "light"
          }
        }
      ]
    },
    {
      "cell_type": "code",
      "metadata": {
        "colab": {
          "base_uri": "https://localhost:8080/"
        },
        "id": "quvybxBoGRLY",
        "outputId": "141df04a-54cd-4f54-838b-fa20a111c256"
      },
      "source": [
        "import warnings\n",
        "warnings.filterwarnings(\"ignore\")\n",
        "\n",
        "from sklearn.linear_model import LinearRegression\n",
        "from sklearn.ensemble import GradientBoostingRegressor\n",
        "from sklearn.tree import DecisionTreeRegressor\n",
        "from sklearn.ensemble import RandomForestRegressor\n",
        "from sklearn.neural_network import MLPRegressor\n",
        "from xgboost import XGBRegressor\n",
        "from sklearn.model_selection import cross_val_score\n",
        "\n",
        "\n",
        "regressor_list = [\n",
        "                  LinearRegression(),\n",
        "                  GradientBoostingRegressor(),\n",
        "                  DecisionTreeRegressor(random_state=42),\n",
        "                  RandomForestRegressor(random_state=42),\n",
        "                  MLPRegressor(random_state=42),\n",
        "                  XGBRegressor(random_state=42),\n",
        "                  \n",
        "                  ]\n",
        "\n",
        "for reg in regressor_list:\n",
        "  print('Treinando', reg.__class__.__name__)\n",
        "  reg.fit(X_treino, Y_treino)\n",
        "  train_score = reg.score(X_treino, Y_treino)\n",
        "  val_score = cross_val_score(reg, X_treino, Y_treino, cv=5)\n",
        "  test_score = reg.score(X_teste, Y_teste)\n",
        "  print('Train score', train_score)\n",
        "  print('Validation score', val_score.mean())\n",
        "  print('Test score', test_score)\n",
        "  print('='*80)"
      ],
      "execution_count": 84,
      "outputs": [
        {
          "output_type": "stream",
          "text": [
            "Treinando LinearRegression\n",
            "Train score 0.07794828654512764\n",
            "Validation score -387.22457481746017\n",
            "Test score 0.062425791918164775\n",
            "================================================================================\n",
            "Treinando GradientBoostingRegressor\n",
            "Train score 0.5980538653625765\n",
            "Validation score 0.21226040995243872\n",
            "Test score 0.18600429922091233\n",
            "================================================================================\n",
            "Treinando DecisionTreeRegressor\n",
            "Train score 1.0\n",
            "Validation score -0.5865116989770192\n",
            "Test score -0.4695956587402046\n",
            "================================================================================\n",
            "Treinando RandomForestRegressor\n",
            "Train score 0.8961632952068995\n",
            "Validation score 0.22639699362652443\n",
            "Test score 0.21169465950132094\n",
            "================================================================================\n",
            "Treinando MLPRegressor\n",
            "Train score -6102.298924748701\n",
            "Validation score -10697.466039130935\n",
            "Test score -5962.419364702662\n",
            "================================================================================\n",
            "Treinando XGBRegressor\n",
            "[20:21:13] WARNING: /workspace/src/objective/regression_obj.cu:152: reg:linear is now deprecated in favor of reg:squarederror.\n",
            "[20:21:14] WARNING: /workspace/src/objective/regression_obj.cu:152: reg:linear is now deprecated in favor of reg:squarederror.\n",
            "[20:21:15] WARNING: /workspace/src/objective/regression_obj.cu:152: reg:linear is now deprecated in favor of reg:squarederror.\n",
            "[20:21:15] WARNING: /workspace/src/objective/regression_obj.cu:152: reg:linear is now deprecated in favor of reg:squarederror.\n",
            "[20:21:16] WARNING: /workspace/src/objective/regression_obj.cu:152: reg:linear is now deprecated in favor of reg:squarederror.\n",
            "[20:21:16] WARNING: /workspace/src/objective/regression_obj.cu:152: reg:linear is now deprecated in favor of reg:squarederror.\n",
            "Train score 0.5451865377094568\n",
            "Validation score 0.22984667253130145\n",
            "Test score 0.17013328642867498\n",
            "================================================================================\n"
          ],
          "name": "stdout"
        }
      ]
    },
    {
      "cell_type": "code",
      "metadata": {
        "id": "3L7jSLjusdJT"
      },
      "source": [
        "rf = RandomForestRegressor()"
      ],
      "execution_count": 86,
      "outputs": []
    },
    {
      "cell_type": "code",
      "metadata": {
        "colab": {
          "base_uri": "https://localhost:8080/"
        },
        "id": "MkPqBq8YsdPa",
        "outputId": "d35e050f-a395-4a03-f77a-15100bf9be76"
      },
      "source": [
        "rf.fit(X_treino, Y_treino)"
      ],
      "execution_count": 88,
      "outputs": [
        {
          "output_type": "execute_result",
          "data": {
            "text/plain": [
              "RandomForestRegressor(bootstrap=True, ccp_alpha=0.0, criterion='mse',\n",
              "                      max_depth=None, max_features='auto', max_leaf_nodes=None,\n",
              "                      max_samples=None, min_impurity_decrease=0.0,\n",
              "                      min_impurity_split=None, min_samples_leaf=1,\n",
              "                      min_samples_split=2, min_weight_fraction_leaf=0.0,\n",
              "                      n_estimators=100, n_jobs=None, oob_score=False,\n",
              "                      random_state=None, verbose=0, warm_start=False)"
            ]
          },
          "metadata": {
            "tags": []
          },
          "execution_count": 88
        }
      ]
    },
    {
      "cell_type": "code",
      "metadata": {
        "id": "C5CUmxCusdU2"
      },
      "source": [
        "y_pred_rf = rf.predict(X_teste)"
      ],
      "execution_count": 89,
      "outputs": []
    },
    {
      "cell_type": "code",
      "metadata": {
        "colab": {
          "base_uri": "https://localhost:8080/"
        },
        "id": "XvAanioNtpHM",
        "outputId": "8e5a9470-1482-4fb8-cd49-dbb6fc9573cf"
      },
      "source": [
        "MAE  = mean_absolute_error(Y_teste,y_pred_rf)\n",
        "MSE  = mean_squared_error(Y_teste,y_pred_rf)\n",
        "RMSE = np.sqrt(mean_squared_error(Y_teste,y_pred_rf))\n",
        "R2 = r2_score(Y_teste, y_pred_rf)\n",
        "\n",
        "print('MAE = {:0.4f}'.format(MAE))\n",
        "print('MSE = {:0.4f}'.format(MSE))\n",
        "print('RMSE = {:0.4f}'.format(RMSE))\n",
        "print('R2 = {:0.4f}'.format(R2))"
      ],
      "execution_count": 93,
      "outputs": [
        {
          "output_type": "stream",
          "text": [
            "MAE = 0.0013\n",
            "MSE = 0.0000\n",
            "RMSE = 0.0063\n",
            "R2 = 0.1868\n"
          ],
          "name": "stdout"
        }
      ]
    },
    {
      "cell_type": "code",
      "metadata": {
        "colab": {
          "base_uri": "https://localhost:8080/",
          "height": 500
        },
        "id": "3d3yWvlluwEb",
        "outputId": "3b076438-3f34-447b-ac05-c4e969e1d157"
      },
      "source": [
        "plt.figure(figsize=(12,8))\n",
        "plt.plot(Y_teste.values)\n",
        "plt.plot(y_pred_rf)"
      ],
      "execution_count": 106,
      "outputs": [
        {
          "output_type": "execute_result",
          "data": {
            "text/plain": [
              "[<matplotlib.lines.Line2D at 0x7f9ea5b0be50>]"
            ]
          },
          "metadata": {
            "tags": []
          },
          "execution_count": 106
        },
        {
          "output_type": "display_data",
          "data": {
            "image/png": "[encoded data removed]",
            "text/plain": [
              "<Figure size 864x576 with 1 Axes>"
            ]
          },
          "metadata": {
            "tags": [],
            "needs_background": "light"
          }
        }
      ]
    },
    {
      "cell_type": "code",
      "metadata": {
        "id": "w7Jiedhj3IuB"
      },
      "source": [
        ""
      ],
      "execution_count": null,
      "outputs": []
    }
  ]
}
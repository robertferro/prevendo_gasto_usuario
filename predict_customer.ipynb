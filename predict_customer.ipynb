{
 "cells": [
  {
   "cell_type": "markdown",
   "metadata": {},
   "source": [
    "# 1- Importando a base de dados."
   ]
  },
  {
   "cell_type": "code",
   "execution_count": 143,
   "metadata": {},
   "outputs": [],
   "source": [
    "import pandas as pd\n",
    "import numpy as np\n",
    "import seaborn as sns\n",
    "import matplotlib.pyplot as plt"
   ]
  },
  {
   "cell_type": "code",
   "execution_count": 105,
   "metadata": {
    "hiddenCell": true
   },
   "outputs": [],
   "source": [
    "query = \"SELECT * FROM `bigquery-public-data.google_analytics_sample.ga_sessions_*` WHERE date BETWEEN'20170101' AND '20170131' \""
   ]
  },
  {
   "cell_type": "code",
   "execution_count": 106,
   "metadata": {
    "hiddenCell": true
   },
   "outputs": [
    {
     "data": {
      "text/plain": [
       "\"SELECT * FROM `bigquery-public-data.google_analytics_sample.ga_sessions_*` WHERE date BETWEEN'20170101' AND '20170131' \""
      ]
     },
     "execution_count": 106,
     "metadata": {},
     "output_type": "execute_result"
    }
   ],
   "source": [
    "query"
   ]
  },
  {
   "cell_type": "code",
   "execution_count": 107,
   "metadata": {
    "codeCollapsed": false,
    "hiddenCell": true
   },
   "outputs": [
    {
     "name": "stdout",
     "output_type": "stream",
     "text": [
      "Requesting query... ok.\n",
      "Job ID: 1940cccc-48ca-48f3-a88f-7cfbcc45c98c\n",
      "Query running...\n",
      "  Elapsed 7.32 s. Waiting...\n",
      "  Elapsed 8.54 s. Waiting...\n",
      "  Elapsed 9.9 s. Waiting...\n",
      "  Elapsed 11.12 s. Waiting...\n",
      "  Elapsed 12.5 s. Waiting...\n",
      "  Elapsed 13.71 s. Waiting...\n",
      "  Elapsed 15.07 s. Waiting...\n",
      "  Elapsed 16.28 s. Waiting...\n",
      "  Elapsed 17.65 s. Waiting...\n",
      "  Elapsed 18.86 s. Waiting...\n",
      "  Elapsed 20.23 s. Waiting...\n",
      "  Elapsed 21.44 s. Waiting...\n",
      "Query done.\n",
      "Processed: 5.4 GB Billed: 5.4 GB\n",
      "Standard price: $0.03 USD\n",
      "\n",
      "Retrieving results...\n",
      "Got 64694 rows.\n",
      "\n",
      "Total time taken 676.64 s.\n",
      "Finished at 2021-04-06 20:53:15.\n"
     ]
    }
   ],
   "source": [
    "df = pd.read_gbq(query=query, project_id='axial-entity-309700', dialect='standard', dtype={'visitId':object})"
   ]
  },
  {
   "cell_type": "code",
   "execution_count": 108,
   "metadata": {},
   "outputs": [
    {
     "data": {
      "text/plain": [
       "(64694, 16)"
      ]
     },
     "execution_count": 108,
     "metadata": {},
     "output_type": "execute_result"
    }
   ],
   "source": [
    "df.shape"
   ]
  },
  {
   "cell_type": "code",
   "execution_count": 109,
   "metadata": {
    "hiddenCell": true
   },
   "outputs": [
    {
     "data": {
      "text/html": [
       "<div>\n",
       "<style scoped>\n",
       "    .dataframe tbody tr th:only-of-type {\n",
       "        vertical-align: middle;\n",
       "    }\n",
       "\n",
       "    .dataframe tbody tr th {\n",
       "        vertical-align: top;\n",
       "    }\n",
       "\n",
       "    .dataframe thead th {\n",
       "        text-align: right;\n",
       "    }\n",
       "</style>\n",
       "<table border=\"1\" class=\"dataframe\">\n",
       "  <thead>\n",
       "    <tr style=\"text-align: right;\">\n",
       "      <th></th>\n",
       "      <th>visitorId</th>\n",
       "      <th>visitNumber</th>\n",
       "      <th>visitId</th>\n",
       "      <th>visitStartTime</th>\n",
       "      <th>date</th>\n",
       "      <th>totals</th>\n",
       "      <th>trafficSource</th>\n",
       "      <th>device</th>\n",
       "      <th>geoNetwork</th>\n",
       "      <th>customDimensions</th>\n",
       "      <th>hits</th>\n",
       "      <th>fullVisitorId</th>\n",
       "      <th>userId</th>\n",
       "      <th>clientId</th>\n",
       "      <th>channelGrouping</th>\n",
       "      <th>socialEngagementType</th>\n",
       "    </tr>\n",
       "  </thead>\n",
       "  <tbody>\n",
       "    <tr>\n",
       "      <th>0</th>\n",
       "      <td>None</td>\n",
       "      <td>1</td>\n",
       "      <td>1485032920</td>\n",
       "      <td>1485032920</td>\n",
       "      <td>20170121</td>\n",
       "      <td>{'screenviews': None, 'hits': 1, 'totalTransac...</td>\n",
       "      <td>{'adContent': None, 'keyword': None, 'referral...</td>\n",
       "      <td>{'flashVersion': 'not available in demo datase...</td>\n",
       "      <td>{'city': '(not set)', 'continent': 'Americas',...</td>\n",
       "      <td>[{'value': 'North America', 'index': 4}]</td>\n",
       "      <td>[{'product': [], 'transaction': None, 'isSecur...</td>\n",
       "      <td>1855060739215171075</td>\n",
       "      <td>None</td>\n",
       "      <td>None</td>\n",
       "      <td>Direct</td>\n",
       "      <td>Not Socially Engaged</td>\n",
       "    </tr>\n",
       "    <tr>\n",
       "      <th>1</th>\n",
       "      <td>None</td>\n",
       "      <td>1</td>\n",
       "      <td>1485046343</td>\n",
       "      <td>1485046343</td>\n",
       "      <td>20170121</td>\n",
       "      <td>{'screenviews': None, 'hits': 1, 'totalTransac...</td>\n",
       "      <td>{'adContent': None, 'keyword': None, 'referral...</td>\n",
       "      <td>{'flashVersion': 'not available in demo datase...</td>\n",
       "      <td>{'city': 'not available in demo dataset', 'con...</td>\n",
       "      <td>[{'value': 'EMEA', 'index': 4}]</td>\n",
       "      <td>[{'product': [], 'transaction': None, 'isSecur...</td>\n",
       "      <td>0313317105004827030</td>\n",
       "      <td>None</td>\n",
       "      <td>None</td>\n",
       "      <td>Organic Search</td>\n",
       "      <td>Not Socially Engaged</td>\n",
       "    </tr>\n",
       "    <tr>\n",
       "      <th>2</th>\n",
       "      <td>None</td>\n",
       "      <td>1</td>\n",
       "      <td>1485033332</td>\n",
       "      <td>1485033332</td>\n",
       "      <td>20170121</td>\n",
       "      <td>{'screenviews': None, 'hits': 1, 'totalTransac...</td>\n",
       "      <td>{'adContent': None, 'keyword': None, 'referral...</td>\n",
       "      <td>{'flashVersion': 'not available in demo datase...</td>\n",
       "      <td>{'city': '(not set)', 'continent': 'Americas',...</td>\n",
       "      <td>[{'value': 'North America', 'index': 4}]</td>\n",
       "      <td>[{'product': [], 'transaction': None, 'isSecur...</td>\n",
       "      <td>4390276725642743703</td>\n",
       "      <td>None</td>\n",
       "      <td>None</td>\n",
       "      <td>Direct</td>\n",
       "      <td>Not Socially Engaged</td>\n",
       "    </tr>\n",
       "    <tr>\n",
       "      <th>3</th>\n",
       "      <td>None</td>\n",
       "      <td>1</td>\n",
       "      <td>1485038895</td>\n",
       "      <td>1485038895</td>\n",
       "      <td>20170121</td>\n",
       "      <td>{'screenviews': None, 'hits': 1, 'totalTransac...</td>\n",
       "      <td>{'adContent': None, 'keyword': None, 'referral...</td>\n",
       "      <td>{'flashVersion': 'not available in demo datase...</td>\n",
       "      <td>{'city': 'not available in demo dataset', 'con...</td>\n",
       "      <td>[{'value': 'EMEA', 'index': 4}]</td>\n",
       "      <td>[{'product': [], 'transaction': None, 'isSecur...</td>\n",
       "      <td>8081748677261294867</td>\n",
       "      <td>None</td>\n",
       "      <td>None</td>\n",
       "      <td>Organic Search</td>\n",
       "      <td>Not Socially Engaged</td>\n",
       "    </tr>\n",
       "    <tr>\n",
       "      <th>4</th>\n",
       "      <td>None</td>\n",
       "      <td>1</td>\n",
       "      <td>1484996171</td>\n",
       "      <td>1484996171</td>\n",
       "      <td>20170121</td>\n",
       "      <td>{'screenviews': None, 'hits': 1, 'totalTransac...</td>\n",
       "      <td>{'adContent': None, 'keyword': None, 'referral...</td>\n",
       "      <td>{'flashVersion': 'not available in demo datase...</td>\n",
       "      <td>{'city': 'not available in demo dataset', 'con...</td>\n",
       "      <td>[{'value': 'EMEA', 'index': 4}]</td>\n",
       "      <td>[{'product': [], 'transaction': None, 'isSecur...</td>\n",
       "      <td>8736621278905506906</td>\n",
       "      <td>None</td>\n",
       "      <td>None</td>\n",
       "      <td>Direct</td>\n",
       "      <td>Not Socially Engaged</td>\n",
       "    </tr>\n",
       "  </tbody>\n",
       "</table>\n",
       "</div>"
      ],
      "text/plain": [
       "  visitorId  visitNumber     visitId  visitStartTime      date  \\\n",
       "0      None            1  1485032920      1485032920  20170121   \n",
       "1      None            1  1485046343      1485046343  20170121   \n",
       "2      None            1  1485033332      1485033332  20170121   \n",
       "3      None            1  1485038895      1485038895  20170121   \n",
       "4      None            1  1484996171      1484996171  20170121   \n",
       "\n",
       "                                              totals  \\\n",
       "0  {'screenviews': None, 'hits': 1, 'totalTransac...   \n",
       "1  {'screenviews': None, 'hits': 1, 'totalTransac...   \n",
       "2  {'screenviews': None, 'hits': 1, 'totalTransac...   \n",
       "3  {'screenviews': None, 'hits': 1, 'totalTransac...   \n",
       "4  {'screenviews': None, 'hits': 1, 'totalTransac...   \n",
       "\n",
       "                                       trafficSource  \\\n",
       "0  {'adContent': None, 'keyword': None, 'referral...   \n",
       "1  {'adContent': None, 'keyword': None, 'referral...   \n",
       "2  {'adContent': None, 'keyword': None, 'referral...   \n",
       "3  {'adContent': None, 'keyword': None, 'referral...   \n",
       "4  {'adContent': None, 'keyword': None, 'referral...   \n",
       "\n",
       "                                              device  \\\n",
       "0  {'flashVersion': 'not available in demo datase...   \n",
       "1  {'flashVersion': 'not available in demo datase...   \n",
       "2  {'flashVersion': 'not available in demo datase...   \n",
       "3  {'flashVersion': 'not available in demo datase...   \n",
       "4  {'flashVersion': 'not available in demo datase...   \n",
       "\n",
       "                                          geoNetwork  \\\n",
       "0  {'city': '(not set)', 'continent': 'Americas',...   \n",
       "1  {'city': 'not available in demo dataset', 'con...   \n",
       "2  {'city': '(not set)', 'continent': 'Americas',...   \n",
       "3  {'city': 'not available in demo dataset', 'con...   \n",
       "4  {'city': 'not available in demo dataset', 'con...   \n",
       "\n",
       "                           customDimensions  \\\n",
       "0  [{'value': 'North America', 'index': 4}]   \n",
       "1           [{'value': 'EMEA', 'index': 4}]   \n",
       "2  [{'value': 'North America', 'index': 4}]   \n",
       "3           [{'value': 'EMEA', 'index': 4}]   \n",
       "4           [{'value': 'EMEA', 'index': 4}]   \n",
       "\n",
       "                                                hits        fullVisitorId  \\\n",
       "0  [{'product': [], 'transaction': None, 'isSecur...  1855060739215171075   \n",
       "1  [{'product': [], 'transaction': None, 'isSecur...  0313317105004827030   \n",
       "2  [{'product': [], 'transaction': None, 'isSecur...  4390276725642743703   \n",
       "3  [{'product': [], 'transaction': None, 'isSecur...  8081748677261294867   \n",
       "4  [{'product': [], 'transaction': None, 'isSecur...  8736621278905506906   \n",
       "\n",
       "  userId clientId channelGrouping  socialEngagementType  \n",
       "0   None     None          Direct  Not Socially Engaged  \n",
       "1   None     None  Organic Search  Not Socially Engaged  \n",
       "2   None     None          Direct  Not Socially Engaged  \n",
       "3   None     None  Organic Search  Not Socially Engaged  \n",
       "4   None     None          Direct  Not Socially Engaged  "
      ]
     },
     "execution_count": 109,
     "metadata": {},
     "output_type": "execute_result"
    }
   ],
   "source": [
    "df.head()"
   ]
  },
  {
   "cell_type": "markdown",
   "metadata": {},
   "source": [
    "# 2- Tratamento de dados"
   ]
  },
  {
   "cell_type": "markdown",
   "metadata": {},
   "source": [
    "- Criando variáveis com a coluna hits."
   ]
  },
  {
   "cell_type": "code",
   "execution_count": 110,
   "metadata": {},
   "outputs": [],
   "source": [
    "produtos_sessao = []\n",
    "precos_sessao = []\n",
    "\n",
    "for linha in df.hits :\n",
    "  produtos_hit = []\n",
    "  precos_hit = []\n",
    "  for hit in linha:\n",
    "    for produto in hit['product'] :\n",
    "      produtos_hit.append(produto['productSKU'])\n",
    "      precos_hit.append(produto['productPrice'])\n",
    "  produtos_sessao.append(produtos_hit)\n",
    "  precos_sessao.append(sum(precos_hit))"
   ]
  },
  {
   "cell_type": "code",
   "execution_count": 111,
   "metadata": {},
   "outputs": [
    {
     "data": {
      "text/plain": [
       "64694"
      ]
     },
     "execution_count": 111,
     "metadata": {},
     "output_type": "execute_result"
    }
   ],
   "source": [
    "len(precos_sessao)"
   ]
  },
  {
   "cell_type": "code",
   "execution_count": 112,
   "metadata": {},
   "outputs": [
    {
     "data": {
      "text/plain": [
       "64694"
      ]
     },
     "execution_count": 112,
     "metadata": {},
     "output_type": "execute_result"
    }
   ],
   "source": [
    "len(produtos_sessao)"
   ]
  },
  {
   "cell_type": "code",
   "execution_count": 113,
   "metadata": {},
   "outputs": [],
   "source": [
    "from sklearn.preprocessing import MultiLabelBinarizer"
   ]
  },
  {
   "cell_type": "code",
   "execution_count": 114,
   "metadata": {},
   "outputs": [],
   "source": [
    "mlb = MultiLabelBinarizer()"
   ]
  },
  {
   "cell_type": "code",
   "execution_count": 115,
   "metadata": {},
   "outputs": [],
   "source": [
    "s = pd.Series(produtos_sessao)"
   ]
  },
  {
   "cell_type": "code",
   "execution_count": 116,
   "metadata": {},
   "outputs": [
    {
     "data": {
      "text/html": [
       "<div>\n",
       "<style scoped>\n",
       "    .dataframe tbody tr th:only-of-type {\n",
       "        vertical-align: middle;\n",
       "    }\n",
       "\n",
       "    .dataframe tbody tr th {\n",
       "        vertical-align: top;\n",
       "    }\n",
       "\n",
       "    .dataframe thead th {\n",
       "        text-align: right;\n",
       "    }\n",
       "</style>\n",
       "<table border=\"1\" class=\"dataframe\">\n",
       "  <thead>\n",
       "    <tr style=\"text-align: right;\">\n",
       "      <th></th>\n",
       "      <th>10 52048</th>\n",
       "      <th>10 52147</th>\n",
       "      <th>10 52211</th>\n",
       "      <th>10 52213</th>\n",
       "      <th>10 52223</th>\n",
       "      <th>10 52225</th>\n",
       "      <th>10 52230</th>\n",
       "      <th>10 52231</th>\n",
       "      <th>10 52232</th>\n",
       "      <th>10 52233</th>\n",
       "      <th>...</th>\n",
       "      <th>GGOEYFKQ020699</th>\n",
       "      <th>GGOEYHPA003510</th>\n",
       "      <th>GGOEYHPA003610</th>\n",
       "      <th>GGOEYHPB072210</th>\n",
       "      <th>GGOEYOBR078599</th>\n",
       "      <th>GGOEYOCR077399</th>\n",
       "      <th>GGOEYOCR077799</th>\n",
       "      <th>GGOEYOCR078099</th>\n",
       "      <th>GGOEYOLR018699</th>\n",
       "      <th>GGOEYOLR080599</th>\n",
       "    </tr>\n",
       "  </thead>\n",
       "  <tbody>\n",
       "    <tr>\n",
       "      <th>0</th>\n",
       "      <td>0</td>\n",
       "      <td>0</td>\n",
       "      <td>0</td>\n",
       "      <td>0</td>\n",
       "      <td>0</td>\n",
       "      <td>0</td>\n",
       "      <td>0</td>\n",
       "      <td>0</td>\n",
       "      <td>0</td>\n",
       "      <td>0</td>\n",
       "      <td>...</td>\n",
       "      <td>0</td>\n",
       "      <td>0</td>\n",
       "      <td>0</td>\n",
       "      <td>0</td>\n",
       "      <td>0</td>\n",
       "      <td>0</td>\n",
       "      <td>0</td>\n",
       "      <td>0</td>\n",
       "      <td>0</td>\n",
       "      <td>0</td>\n",
       "    </tr>\n",
       "    <tr>\n",
       "      <th>1</th>\n",
       "      <td>0</td>\n",
       "      <td>0</td>\n",
       "      <td>0</td>\n",
       "      <td>0</td>\n",
       "      <td>0</td>\n",
       "      <td>0</td>\n",
       "      <td>0</td>\n",
       "      <td>0</td>\n",
       "      <td>0</td>\n",
       "      <td>0</td>\n",
       "      <td>...</td>\n",
       "      <td>0</td>\n",
       "      <td>0</td>\n",
       "      <td>0</td>\n",
       "      <td>0</td>\n",
       "      <td>0</td>\n",
       "      <td>0</td>\n",
       "      <td>0</td>\n",
       "      <td>0</td>\n",
       "      <td>0</td>\n",
       "      <td>0</td>\n",
       "    </tr>\n",
       "    <tr>\n",
       "      <th>2</th>\n",
       "      <td>0</td>\n",
       "      <td>0</td>\n",
       "      <td>0</td>\n",
       "      <td>0</td>\n",
       "      <td>0</td>\n",
       "      <td>0</td>\n",
       "      <td>0</td>\n",
       "      <td>0</td>\n",
       "      <td>0</td>\n",
       "      <td>0</td>\n",
       "      <td>...</td>\n",
       "      <td>0</td>\n",
       "      <td>0</td>\n",
       "      <td>0</td>\n",
       "      <td>0</td>\n",
       "      <td>0</td>\n",
       "      <td>0</td>\n",
       "      <td>0</td>\n",
       "      <td>0</td>\n",
       "      <td>0</td>\n",
       "      <td>0</td>\n",
       "    </tr>\n",
       "    <tr>\n",
       "      <th>3</th>\n",
       "      <td>0</td>\n",
       "      <td>0</td>\n",
       "      <td>0</td>\n",
       "      <td>0</td>\n",
       "      <td>0</td>\n",
       "      <td>0</td>\n",
       "      <td>0</td>\n",
       "      <td>0</td>\n",
       "      <td>0</td>\n",
       "      <td>0</td>\n",
       "      <td>...</td>\n",
       "      <td>0</td>\n",
       "      <td>0</td>\n",
       "      <td>0</td>\n",
       "      <td>0</td>\n",
       "      <td>0</td>\n",
       "      <td>0</td>\n",
       "      <td>0</td>\n",
       "      <td>0</td>\n",
       "      <td>0</td>\n",
       "      <td>0</td>\n",
       "    </tr>\n",
       "    <tr>\n",
       "      <th>4</th>\n",
       "      <td>0</td>\n",
       "      <td>0</td>\n",
       "      <td>0</td>\n",
       "      <td>0</td>\n",
       "      <td>0</td>\n",
       "      <td>0</td>\n",
       "      <td>0</td>\n",
       "      <td>0</td>\n",
       "      <td>0</td>\n",
       "      <td>0</td>\n",
       "      <td>...</td>\n",
       "      <td>0</td>\n",
       "      <td>0</td>\n",
       "      <td>0</td>\n",
       "      <td>0</td>\n",
       "      <td>0</td>\n",
       "      <td>0</td>\n",
       "      <td>0</td>\n",
       "      <td>0</td>\n",
       "      <td>0</td>\n",
       "      <td>0</td>\n",
       "    </tr>\n",
       "  </tbody>\n",
       "</table>\n",
       "<p>5 rows × 1109 columns</p>\n",
       "</div>"
      ],
      "text/plain": [
       "   10 52048  10 52147  10 52211  10 52213  10 52223  10 52225  10 52230  \\\n",
       "0         0         0         0         0         0         0         0   \n",
       "1         0         0         0         0         0         0         0   \n",
       "2         0         0         0         0         0         0         0   \n",
       "3         0         0         0         0         0         0         0   \n",
       "4         0         0         0         0         0         0         0   \n",
       "\n",
       "   10 52231  10 52232  10 52233       ...        GGOEYFKQ020699  \\\n",
       "0         0         0         0       ...                     0   \n",
       "1         0         0         0       ...                     0   \n",
       "2         0         0         0       ...                     0   \n",
       "3         0         0         0       ...                     0   \n",
       "4         0         0         0       ...                     0   \n",
       "\n",
       "   GGOEYHPA003510  GGOEYHPA003610  GGOEYHPB072210  GGOEYOBR078599  \\\n",
       "0               0               0               0               0   \n",
       "1               0               0               0               0   \n",
       "2               0               0               0               0   \n",
       "3               0               0               0               0   \n",
       "4               0               0               0               0   \n",
       "\n",
       "   GGOEYOCR077399  GGOEYOCR077799  GGOEYOCR078099  GGOEYOLR018699  \\\n",
       "0               0               0               0               0   \n",
       "1               0               0               0               0   \n",
       "2               0               0               0               0   \n",
       "3               0               0               0               0   \n",
       "4               0               0               0               0   \n",
       "\n",
       "   GGOEYOLR080599  \n",
       "0               0  \n",
       "1               0  \n",
       "2               0  \n",
       "3               0  \n",
       "4               0  \n",
       "\n",
       "[5 rows x 1109 columns]"
      ]
     },
     "execution_count": 116,
     "metadata": {},
     "output_type": "execute_result"
    }
   ],
   "source": [
    "produtos = pd.DataFrame(mlb.fit_transform(s), columns=mlb.classes_, index=df.index)\n",
    "produtos.head()"
   ]
  },
  {
   "cell_type": "code",
   "execution_count": 117,
   "metadata": {},
   "outputs": [
    {
     "data": {
      "text/plain": [
       "(64694, 1109)"
      ]
     },
     "execution_count": 117,
     "metadata": {},
     "output_type": "execute_result"
    }
   ],
   "source": [
    "produtos.shape"
   ]
  },
  {
   "cell_type": "code",
   "execution_count": 118,
   "metadata": {},
   "outputs": [],
   "source": [
    "df = df.join(produtos)\n",
    "df['preco'] = precos_sessao"
   ]
  },
  {
   "cell_type": "code",
   "execution_count": 119,
   "metadata": {},
   "outputs": [
    {
     "data": {
      "text/html": [
       "<div>\n",
       "<style scoped>\n",
       "    .dataframe tbody tr th:only-of-type {\n",
       "        vertical-align: middle;\n",
       "    }\n",
       "\n",
       "    .dataframe tbody tr th {\n",
       "        vertical-align: top;\n",
       "    }\n",
       "\n",
       "    .dataframe thead th {\n",
       "        text-align: right;\n",
       "    }\n",
       "</style>\n",
       "<table border=\"1\" class=\"dataframe\">\n",
       "  <thead>\n",
       "    <tr style=\"text-align: right;\">\n",
       "      <th></th>\n",
       "      <th>visitorId</th>\n",
       "      <th>visitNumber</th>\n",
       "      <th>visitId</th>\n",
       "      <th>visitStartTime</th>\n",
       "      <th>date</th>\n",
       "      <th>totals</th>\n",
       "      <th>trafficSource</th>\n",
       "      <th>device</th>\n",
       "      <th>geoNetwork</th>\n",
       "      <th>customDimensions</th>\n",
       "      <th>...</th>\n",
       "      <th>GGOEYHPA003510</th>\n",
       "      <th>GGOEYHPA003610</th>\n",
       "      <th>GGOEYHPB072210</th>\n",
       "      <th>GGOEYOBR078599</th>\n",
       "      <th>GGOEYOCR077399</th>\n",
       "      <th>GGOEYOCR077799</th>\n",
       "      <th>GGOEYOCR078099</th>\n",
       "      <th>GGOEYOLR018699</th>\n",
       "      <th>GGOEYOLR080599</th>\n",
       "      <th>preco</th>\n",
       "    </tr>\n",
       "  </thead>\n",
       "  <tbody>\n",
       "    <tr>\n",
       "      <th>0</th>\n",
       "      <td>None</td>\n",
       "      <td>1</td>\n",
       "      <td>1485032920</td>\n",
       "      <td>1485032920</td>\n",
       "      <td>20170121</td>\n",
       "      <td>{'screenviews': None, 'hits': 1, 'totalTransac...</td>\n",
       "      <td>{'adContent': None, 'keyword': None, 'referral...</td>\n",
       "      <td>{'flashVersion': 'not available in demo datase...</td>\n",
       "      <td>{'city': '(not set)', 'continent': 'Americas',...</td>\n",
       "      <td>[{'value': 'North America', 'index': 4}]</td>\n",
       "      <td>...</td>\n",
       "      <td>0</td>\n",
       "      <td>0</td>\n",
       "      <td>0</td>\n",
       "      <td>0</td>\n",
       "      <td>0</td>\n",
       "      <td>0</td>\n",
       "      <td>0</td>\n",
       "      <td>0</td>\n",
       "      <td>0</td>\n",
       "      <td>0</td>\n",
       "    </tr>\n",
       "    <tr>\n",
       "      <th>1</th>\n",
       "      <td>None</td>\n",
       "      <td>1</td>\n",
       "      <td>1485046343</td>\n",
       "      <td>1485046343</td>\n",
       "      <td>20170121</td>\n",
       "      <td>{'screenviews': None, 'hits': 1, 'totalTransac...</td>\n",
       "      <td>{'adContent': None, 'keyword': None, 'referral...</td>\n",
       "      <td>{'flashVersion': 'not available in demo datase...</td>\n",
       "      <td>{'city': 'not available in demo dataset', 'con...</td>\n",
       "      <td>[{'value': 'EMEA', 'index': 4}]</td>\n",
       "      <td>...</td>\n",
       "      <td>0</td>\n",
       "      <td>0</td>\n",
       "      <td>0</td>\n",
       "      <td>0</td>\n",
       "      <td>0</td>\n",
       "      <td>0</td>\n",
       "      <td>0</td>\n",
       "      <td>0</td>\n",
       "      <td>0</td>\n",
       "      <td>0</td>\n",
       "    </tr>\n",
       "    <tr>\n",
       "      <th>2</th>\n",
       "      <td>None</td>\n",
       "      <td>1</td>\n",
       "      <td>1485033332</td>\n",
       "      <td>1485033332</td>\n",
       "      <td>20170121</td>\n",
       "      <td>{'screenviews': None, 'hits': 1, 'totalTransac...</td>\n",
       "      <td>{'adContent': None, 'keyword': None, 'referral...</td>\n",
       "      <td>{'flashVersion': 'not available in demo datase...</td>\n",
       "      <td>{'city': '(not set)', 'continent': 'Americas',...</td>\n",
       "      <td>[{'value': 'North America', 'index': 4}]</td>\n",
       "      <td>...</td>\n",
       "      <td>0</td>\n",
       "      <td>0</td>\n",
       "      <td>0</td>\n",
       "      <td>0</td>\n",
       "      <td>0</td>\n",
       "      <td>0</td>\n",
       "      <td>0</td>\n",
       "      <td>0</td>\n",
       "      <td>0</td>\n",
       "      <td>0</td>\n",
       "    </tr>\n",
       "    <tr>\n",
       "      <th>3</th>\n",
       "      <td>None</td>\n",
       "      <td>1</td>\n",
       "      <td>1485038895</td>\n",
       "      <td>1485038895</td>\n",
       "      <td>20170121</td>\n",
       "      <td>{'screenviews': None, 'hits': 1, 'totalTransac...</td>\n",
       "      <td>{'adContent': None, 'keyword': None, 'referral...</td>\n",
       "      <td>{'flashVersion': 'not available in demo datase...</td>\n",
       "      <td>{'city': 'not available in demo dataset', 'con...</td>\n",
       "      <td>[{'value': 'EMEA', 'index': 4}]</td>\n",
       "      <td>...</td>\n",
       "      <td>0</td>\n",
       "      <td>0</td>\n",
       "      <td>0</td>\n",
       "      <td>0</td>\n",
       "      <td>0</td>\n",
       "      <td>0</td>\n",
       "      <td>0</td>\n",
       "      <td>0</td>\n",
       "      <td>0</td>\n",
       "      <td>0</td>\n",
       "    </tr>\n",
       "    <tr>\n",
       "      <th>4</th>\n",
       "      <td>None</td>\n",
       "      <td>1</td>\n",
       "      <td>1484996171</td>\n",
       "      <td>1484996171</td>\n",
       "      <td>20170121</td>\n",
       "      <td>{'screenviews': None, 'hits': 1, 'totalTransac...</td>\n",
       "      <td>{'adContent': None, 'keyword': None, 'referral...</td>\n",
       "      <td>{'flashVersion': 'not available in demo datase...</td>\n",
       "      <td>{'city': 'not available in demo dataset', 'con...</td>\n",
       "      <td>[{'value': 'EMEA', 'index': 4}]</td>\n",
       "      <td>...</td>\n",
       "      <td>0</td>\n",
       "      <td>0</td>\n",
       "      <td>0</td>\n",
       "      <td>0</td>\n",
       "      <td>0</td>\n",
       "      <td>0</td>\n",
       "      <td>0</td>\n",
       "      <td>0</td>\n",
       "      <td>0</td>\n",
       "      <td>0</td>\n",
       "    </tr>\n",
       "  </tbody>\n",
       "</table>\n",
       "<p>5 rows × 1126 columns</p>\n",
       "</div>"
      ],
      "text/plain": [
       "  visitorId  visitNumber     visitId  visitStartTime      date  \\\n",
       "0      None            1  1485032920      1485032920  20170121   \n",
       "1      None            1  1485046343      1485046343  20170121   \n",
       "2      None            1  1485033332      1485033332  20170121   \n",
       "3      None            1  1485038895      1485038895  20170121   \n",
       "4      None            1  1484996171      1484996171  20170121   \n",
       "\n",
       "                                              totals  \\\n",
       "0  {'screenviews': None, 'hits': 1, 'totalTransac...   \n",
       "1  {'screenviews': None, 'hits': 1, 'totalTransac...   \n",
       "2  {'screenviews': None, 'hits': 1, 'totalTransac...   \n",
       "3  {'screenviews': None, 'hits': 1, 'totalTransac...   \n",
       "4  {'screenviews': None, 'hits': 1, 'totalTransac...   \n",
       "\n",
       "                                       trafficSource  \\\n",
       "0  {'adContent': None, 'keyword': None, 'referral...   \n",
       "1  {'adContent': None, 'keyword': None, 'referral...   \n",
       "2  {'adContent': None, 'keyword': None, 'referral...   \n",
       "3  {'adContent': None, 'keyword': None, 'referral...   \n",
       "4  {'adContent': None, 'keyword': None, 'referral...   \n",
       "\n",
       "                                              device  \\\n",
       "0  {'flashVersion': 'not available in demo datase...   \n",
       "1  {'flashVersion': 'not available in demo datase...   \n",
       "2  {'flashVersion': 'not available in demo datase...   \n",
       "3  {'flashVersion': 'not available in demo datase...   \n",
       "4  {'flashVersion': 'not available in demo datase...   \n",
       "\n",
       "                                          geoNetwork  \\\n",
       "0  {'city': '(not set)', 'continent': 'Americas',...   \n",
       "1  {'city': 'not available in demo dataset', 'con...   \n",
       "2  {'city': '(not set)', 'continent': 'Americas',...   \n",
       "3  {'city': 'not available in demo dataset', 'con...   \n",
       "4  {'city': 'not available in demo dataset', 'con...   \n",
       "\n",
       "                           customDimensions  ...   GGOEYHPA003510  \\\n",
       "0  [{'value': 'North America', 'index': 4}]  ...                0   \n",
       "1           [{'value': 'EMEA', 'index': 4}]  ...                0   \n",
       "2  [{'value': 'North America', 'index': 4}]  ...                0   \n",
       "3           [{'value': 'EMEA', 'index': 4}]  ...                0   \n",
       "4           [{'value': 'EMEA', 'index': 4}]  ...                0   \n",
       "\n",
       "  GGOEYHPA003610 GGOEYHPB072210 GGOEYOBR078599 GGOEYOCR077399 GGOEYOCR077799  \\\n",
       "0              0              0              0              0              0   \n",
       "1              0              0              0              0              0   \n",
       "2              0              0              0              0              0   \n",
       "3              0              0              0              0              0   \n",
       "4              0              0              0              0              0   \n",
       "\n",
       "   GGOEYOCR078099  GGOEYOLR018699  GGOEYOLR080599  preco  \n",
       "0               0               0               0      0  \n",
       "1               0               0               0      0  \n",
       "2               0               0               0      0  \n",
       "3               0               0               0      0  \n",
       "4               0               0               0      0  \n",
       "\n",
       "[5 rows x 1126 columns]"
      ]
     },
     "execution_count": 119,
     "metadata": {},
     "output_type": "execute_result"
    }
   ],
   "source": [
    "df.head()"
   ]
  },
  {
   "cell_type": "code",
   "execution_count": 120,
   "metadata": {},
   "outputs": [
    {
     "data": {
      "text/plain": [
       "(64694, 1126)"
      ]
     },
     "execution_count": 120,
     "metadata": {},
     "output_type": "execute_result"
    }
   ],
   "source": [
    "df.shape"
   ]
  },
  {
   "cell_type": "markdown",
   "metadata": {},
   "source": [
    "## 2.2 - Criando um novo df."
   ]
  },
  {
   "cell_type": "code",
   "execution_count": 121,
   "metadata": {},
   "outputs": [],
   "source": [
    "visitas = df.drop(columns = ['hits','customDimensions'],axis=1)"
   ]
  },
  {
   "cell_type": "code",
   "execution_count": 122,
   "metadata": {},
   "outputs": [
    {
     "data": {
      "text/html": [
       "<div>\n",
       "<style scoped>\n",
       "    .dataframe tbody tr th:only-of-type {\n",
       "        vertical-align: middle;\n",
       "    }\n",
       "\n",
       "    .dataframe tbody tr th {\n",
       "        vertical-align: top;\n",
       "    }\n",
       "\n",
       "    .dataframe thead th {\n",
       "        text-align: right;\n",
       "    }\n",
       "</style>\n",
       "<table border=\"1\" class=\"dataframe\">\n",
       "  <thead>\n",
       "    <tr style=\"text-align: right;\">\n",
       "      <th></th>\n",
       "      <th>visitorId</th>\n",
       "      <th>visitNumber</th>\n",
       "      <th>visitId</th>\n",
       "      <th>visitStartTime</th>\n",
       "      <th>date</th>\n",
       "      <th>totals</th>\n",
       "      <th>trafficSource</th>\n",
       "      <th>device</th>\n",
       "      <th>geoNetwork</th>\n",
       "      <th>fullVisitorId</th>\n",
       "      <th>...</th>\n",
       "      <th>GGOEYHPA003510</th>\n",
       "      <th>GGOEYHPA003610</th>\n",
       "      <th>GGOEYHPB072210</th>\n",
       "      <th>GGOEYOBR078599</th>\n",
       "      <th>GGOEYOCR077399</th>\n",
       "      <th>GGOEYOCR077799</th>\n",
       "      <th>GGOEYOCR078099</th>\n",
       "      <th>GGOEYOLR018699</th>\n",
       "      <th>GGOEYOLR080599</th>\n",
       "      <th>preco</th>\n",
       "    </tr>\n",
       "  </thead>\n",
       "  <tbody>\n",
       "    <tr>\n",
       "      <th>0</th>\n",
       "      <td>None</td>\n",
       "      <td>1</td>\n",
       "      <td>1485032920</td>\n",
       "      <td>1485032920</td>\n",
       "      <td>20170121</td>\n",
       "      <td>{'screenviews': None, 'hits': 1, 'totalTransac...</td>\n",
       "      <td>{'adContent': None, 'keyword': None, 'referral...</td>\n",
       "      <td>{'flashVersion': 'not available in demo datase...</td>\n",
       "      <td>{'city': '(not set)', 'continent': 'Americas',...</td>\n",
       "      <td>1855060739215171075</td>\n",
       "      <td>...</td>\n",
       "      <td>0</td>\n",
       "      <td>0</td>\n",
       "      <td>0</td>\n",
       "      <td>0</td>\n",
       "      <td>0</td>\n",
       "      <td>0</td>\n",
       "      <td>0</td>\n",
       "      <td>0</td>\n",
       "      <td>0</td>\n",
       "      <td>0</td>\n",
       "    </tr>\n",
       "    <tr>\n",
       "      <th>1</th>\n",
       "      <td>None</td>\n",
       "      <td>1</td>\n",
       "      <td>1485046343</td>\n",
       "      <td>1485046343</td>\n",
       "      <td>20170121</td>\n",
       "      <td>{'screenviews': None, 'hits': 1, 'totalTransac...</td>\n",
       "      <td>{'adContent': None, 'keyword': None, 'referral...</td>\n",
       "      <td>{'flashVersion': 'not available in demo datase...</td>\n",
       "      <td>{'city': 'not available in demo dataset', 'con...</td>\n",
       "      <td>0313317105004827030</td>\n",
       "      <td>...</td>\n",
       "      <td>0</td>\n",
       "      <td>0</td>\n",
       "      <td>0</td>\n",
       "      <td>0</td>\n",
       "      <td>0</td>\n",
       "      <td>0</td>\n",
       "      <td>0</td>\n",
       "      <td>0</td>\n",
       "      <td>0</td>\n",
       "      <td>0</td>\n",
       "    </tr>\n",
       "    <tr>\n",
       "      <th>2</th>\n",
       "      <td>None</td>\n",
       "      <td>1</td>\n",
       "      <td>1485033332</td>\n",
       "      <td>1485033332</td>\n",
       "      <td>20170121</td>\n",
       "      <td>{'screenviews': None, 'hits': 1, 'totalTransac...</td>\n",
       "      <td>{'adContent': None, 'keyword': None, 'referral...</td>\n",
       "      <td>{'flashVersion': 'not available in demo datase...</td>\n",
       "      <td>{'city': '(not set)', 'continent': 'Americas',...</td>\n",
       "      <td>4390276725642743703</td>\n",
       "      <td>...</td>\n",
       "      <td>0</td>\n",
       "      <td>0</td>\n",
       "      <td>0</td>\n",
       "      <td>0</td>\n",
       "      <td>0</td>\n",
       "      <td>0</td>\n",
       "      <td>0</td>\n",
       "      <td>0</td>\n",
       "      <td>0</td>\n",
       "      <td>0</td>\n",
       "    </tr>\n",
       "    <tr>\n",
       "      <th>3</th>\n",
       "      <td>None</td>\n",
       "      <td>1</td>\n",
       "      <td>1485038895</td>\n",
       "      <td>1485038895</td>\n",
       "      <td>20170121</td>\n",
       "      <td>{'screenviews': None, 'hits': 1, 'totalTransac...</td>\n",
       "      <td>{'adContent': None, 'keyword': None, 'referral...</td>\n",
       "      <td>{'flashVersion': 'not available in demo datase...</td>\n",
       "      <td>{'city': 'not available in demo dataset', 'con...</td>\n",
       "      <td>8081748677261294867</td>\n",
       "      <td>...</td>\n",
       "      <td>0</td>\n",
       "      <td>0</td>\n",
       "      <td>0</td>\n",
       "      <td>0</td>\n",
       "      <td>0</td>\n",
       "      <td>0</td>\n",
       "      <td>0</td>\n",
       "      <td>0</td>\n",
       "      <td>0</td>\n",
       "      <td>0</td>\n",
       "    </tr>\n",
       "    <tr>\n",
       "      <th>4</th>\n",
       "      <td>None</td>\n",
       "      <td>1</td>\n",
       "      <td>1484996171</td>\n",
       "      <td>1484996171</td>\n",
       "      <td>20170121</td>\n",
       "      <td>{'screenviews': None, 'hits': 1, 'totalTransac...</td>\n",
       "      <td>{'adContent': None, 'keyword': None, 'referral...</td>\n",
       "      <td>{'flashVersion': 'not available in demo datase...</td>\n",
       "      <td>{'city': 'not available in demo dataset', 'con...</td>\n",
       "      <td>8736621278905506906</td>\n",
       "      <td>...</td>\n",
       "      <td>0</td>\n",
       "      <td>0</td>\n",
       "      <td>0</td>\n",
       "      <td>0</td>\n",
       "      <td>0</td>\n",
       "      <td>0</td>\n",
       "      <td>0</td>\n",
       "      <td>0</td>\n",
       "      <td>0</td>\n",
       "      <td>0</td>\n",
       "    </tr>\n",
       "  </tbody>\n",
       "</table>\n",
       "<p>5 rows × 1124 columns</p>\n",
       "</div>"
      ],
      "text/plain": [
       "  visitorId  visitNumber     visitId  visitStartTime      date  \\\n",
       "0      None            1  1485032920      1485032920  20170121   \n",
       "1      None            1  1485046343      1485046343  20170121   \n",
       "2      None            1  1485033332      1485033332  20170121   \n",
       "3      None            1  1485038895      1485038895  20170121   \n",
       "4      None            1  1484996171      1484996171  20170121   \n",
       "\n",
       "                                              totals  \\\n",
       "0  {'screenviews': None, 'hits': 1, 'totalTransac...   \n",
       "1  {'screenviews': None, 'hits': 1, 'totalTransac...   \n",
       "2  {'screenviews': None, 'hits': 1, 'totalTransac...   \n",
       "3  {'screenviews': None, 'hits': 1, 'totalTransac...   \n",
       "4  {'screenviews': None, 'hits': 1, 'totalTransac...   \n",
       "\n",
       "                                       trafficSource  \\\n",
       "0  {'adContent': None, 'keyword': None, 'referral...   \n",
       "1  {'adContent': None, 'keyword': None, 'referral...   \n",
       "2  {'adContent': None, 'keyword': None, 'referral...   \n",
       "3  {'adContent': None, 'keyword': None, 'referral...   \n",
       "4  {'adContent': None, 'keyword': None, 'referral...   \n",
       "\n",
       "                                              device  \\\n",
       "0  {'flashVersion': 'not available in demo datase...   \n",
       "1  {'flashVersion': 'not available in demo datase...   \n",
       "2  {'flashVersion': 'not available in demo datase...   \n",
       "3  {'flashVersion': 'not available in demo datase...   \n",
       "4  {'flashVersion': 'not available in demo datase...   \n",
       "\n",
       "                                          geoNetwork        fullVisitorId  \\\n",
       "0  {'city': '(not set)', 'continent': 'Americas',...  1855060739215171075   \n",
       "1  {'city': 'not available in demo dataset', 'con...  0313317105004827030   \n",
       "2  {'city': '(not set)', 'continent': 'Americas',...  4390276725642743703   \n",
       "3  {'city': 'not available in demo dataset', 'con...  8081748677261294867   \n",
       "4  {'city': 'not available in demo dataset', 'con...  8736621278905506906   \n",
       "\n",
       "   ...   GGOEYHPA003510 GGOEYHPA003610 GGOEYHPB072210 GGOEYOBR078599  \\\n",
       "0  ...                0              0              0              0   \n",
       "1  ...                0              0              0              0   \n",
       "2  ...                0              0              0              0   \n",
       "3  ...                0              0              0              0   \n",
       "4  ...                0              0              0              0   \n",
       "\n",
       "   GGOEYOCR077399  GGOEYOCR077799  GGOEYOCR078099  GGOEYOLR018699  \\\n",
       "0               0               0               0               0   \n",
       "1               0               0               0               0   \n",
       "2               0               0               0               0   \n",
       "3               0               0               0               0   \n",
       "4               0               0               0               0   \n",
       "\n",
       "   GGOEYOLR080599  preco  \n",
       "0               0      0  \n",
       "1               0      0  \n",
       "2               0      0  \n",
       "3               0      0  \n",
       "4               0      0  \n",
       "\n",
       "[5 rows x 1124 columns]"
      ]
     },
     "execution_count": 122,
     "metadata": {},
     "output_type": "execute_result"
    }
   ],
   "source": [
    "visitas.head()"
   ]
  },
  {
   "cell_type": "markdown",
   "metadata": {},
   "source": [
    "- Tratando colunas que tem formato de dicionário."
   ]
  },
  {
   "cell_type": "code",
   "execution_count": 123,
   "metadata": {},
   "outputs": [],
   "source": [
    "dicionarios = ['device','trafficSource','geoNetwork','totals']"
   ]
  },
  {
   "cell_type": "code",
   "execution_count": null,
   "metadata": {},
   "outputs": [],
   "source": [
    "import json\n",
    "\n",
    "# Transformando as chaves dos dicionários em novas colunas\n",
    "for coluna in dicionarios:\n",
    "  visitas = visitas.join(\n",
    "    pd.DataFrame([json.loads(json.dumps(linha))\n",
    "      for linha in visitas[coluna]]) , rsuffix=('_' + coluna) )\n",
    "visitas.drop( dicionarios, axis=1, inplace=True)\n",
    "\n",
    "\n",
    "\n",
    "# Corrigindo o formato das colunas com valores quantitativos\n",
    "totals = df.totals[0].keys()\n",
    "totals = list(totals)\n",
    "for coluna in totals:\n",
    "  visitas[coluna] = pd.to_numeric(visitas[coluna])\n",
    "\n",
    "  \n",
    "# Limpando os dados\n",
    "visitas.drop('adwordsClickInfo', axis=1, inplace=True)\n",
    "\n",
    "\n",
    "# Remove as colunas cujo domínio só tem um elemento\n",
    "coluna_na = []\n",
    "for coluna in visitas.columns:\n",
    "  print(str(coluna) + ': ' + str(len(visitas[coluna].unique())))\n",
    "  if len( visitas[coluna].unique()) == 1:\n",
    "    coluna_na.append(coluna)\n",
    "visitas.drop( coluna_na, axis=1, inplace=True)"
   ]
  },
  {
   "cell_type": "code",
   "execution_count": 125,
   "metadata": {},
   "outputs": [
    {
     "data": {
      "text/html": [
       "<div>\n",
       "<style scoped>\n",
       "    .dataframe tbody tr th:only-of-type {\n",
       "        vertical-align: middle;\n",
       "    }\n",
       "\n",
       "    .dataframe tbody tr th {\n",
       "        vertical-align: top;\n",
       "    }\n",
       "\n",
       "    .dataframe thead th {\n",
       "        text-align: right;\n",
       "    }\n",
       "</style>\n",
       "<table border=\"1\" class=\"dataframe\">\n",
       "  <thead>\n",
       "    <tr style=\"text-align: right;\">\n",
       "      <th></th>\n",
       "      <th>visitNumber</th>\n",
       "      <th>visitId</th>\n",
       "      <th>visitStartTime</th>\n",
       "      <th>date</th>\n",
       "      <th>fullVisitorId</th>\n",
       "      <th>channelGrouping</th>\n",
       "      <th>10 52048</th>\n",
       "      <th>10 52147</th>\n",
       "      <th>10 52211</th>\n",
       "      <th>10 52213</th>\n",
       "      <th>...</th>\n",
       "      <th>region</th>\n",
       "      <th>subContinent</th>\n",
       "      <th>bounces</th>\n",
       "      <th>hits</th>\n",
       "      <th>newVisits</th>\n",
       "      <th>pageviews</th>\n",
       "      <th>timeOnSite</th>\n",
       "      <th>totalTransactionRevenue</th>\n",
       "      <th>transactionRevenue</th>\n",
       "      <th>transactions</th>\n",
       "    </tr>\n",
       "  </thead>\n",
       "  <tbody>\n",
       "    <tr>\n",
       "      <th>0</th>\n",
       "      <td>1</td>\n",
       "      <td>1485032920</td>\n",
       "      <td>1485032920</td>\n",
       "      <td>20170121</td>\n",
       "      <td>1855060739215171075</td>\n",
       "      <td>Direct</td>\n",
       "      <td>0</td>\n",
       "      <td>0</td>\n",
       "      <td>0</td>\n",
       "      <td>0</td>\n",
       "      <td>...</td>\n",
       "      <td>(not set)</td>\n",
       "      <td>Northern America</td>\n",
       "      <td>1.0</td>\n",
       "      <td>1</td>\n",
       "      <td>1.0</td>\n",
       "      <td>1.0</td>\n",
       "      <td>NaN</td>\n",
       "      <td>NaN</td>\n",
       "      <td>NaN</td>\n",
       "      <td>NaN</td>\n",
       "    </tr>\n",
       "    <tr>\n",
       "      <th>1</th>\n",
       "      <td>1</td>\n",
       "      <td>1485046343</td>\n",
       "      <td>1485046343</td>\n",
       "      <td>20170121</td>\n",
       "      <td>0313317105004827030</td>\n",
       "      <td>Organic Search</td>\n",
       "      <td>0</td>\n",
       "      <td>0</td>\n",
       "      <td>0</td>\n",
       "      <td>0</td>\n",
       "      <td>...</td>\n",
       "      <td>not available in demo dataset</td>\n",
       "      <td>Southern Europe</td>\n",
       "      <td>1.0</td>\n",
       "      <td>1</td>\n",
       "      <td>1.0</td>\n",
       "      <td>1.0</td>\n",
       "      <td>NaN</td>\n",
       "      <td>NaN</td>\n",
       "      <td>NaN</td>\n",
       "      <td>NaN</td>\n",
       "    </tr>\n",
       "    <tr>\n",
       "      <th>2</th>\n",
       "      <td>1</td>\n",
       "      <td>1485033332</td>\n",
       "      <td>1485033332</td>\n",
       "      <td>20170121</td>\n",
       "      <td>4390276725642743703</td>\n",
       "      <td>Direct</td>\n",
       "      <td>0</td>\n",
       "      <td>0</td>\n",
       "      <td>0</td>\n",
       "      <td>0</td>\n",
       "      <td>...</td>\n",
       "      <td>(not set)</td>\n",
       "      <td>Northern America</td>\n",
       "      <td>1.0</td>\n",
       "      <td>1</td>\n",
       "      <td>1.0</td>\n",
       "      <td>1.0</td>\n",
       "      <td>NaN</td>\n",
       "      <td>NaN</td>\n",
       "      <td>NaN</td>\n",
       "      <td>NaN</td>\n",
       "    </tr>\n",
       "    <tr>\n",
       "      <th>3</th>\n",
       "      <td>1</td>\n",
       "      <td>1485038895</td>\n",
       "      <td>1485038895</td>\n",
       "      <td>20170121</td>\n",
       "      <td>8081748677261294867</td>\n",
       "      <td>Organic Search</td>\n",
       "      <td>0</td>\n",
       "      <td>0</td>\n",
       "      <td>0</td>\n",
       "      <td>0</td>\n",
       "      <td>...</td>\n",
       "      <td>not available in demo dataset</td>\n",
       "      <td>Southern Europe</td>\n",
       "      <td>1.0</td>\n",
       "      <td>1</td>\n",
       "      <td>1.0</td>\n",
       "      <td>1.0</td>\n",
       "      <td>NaN</td>\n",
       "      <td>NaN</td>\n",
       "      <td>NaN</td>\n",
       "      <td>NaN</td>\n",
       "    </tr>\n",
       "    <tr>\n",
       "      <th>4</th>\n",
       "      <td>1</td>\n",
       "      <td>1484996171</td>\n",
       "      <td>1484996171</td>\n",
       "      <td>20170121</td>\n",
       "      <td>8736621278905506906</td>\n",
       "      <td>Direct</td>\n",
       "      <td>0</td>\n",
       "      <td>0</td>\n",
       "      <td>0</td>\n",
       "      <td>0</td>\n",
       "      <td>...</td>\n",
       "      <td>not available in demo dataset</td>\n",
       "      <td>Western Europe</td>\n",
       "      <td>1.0</td>\n",
       "      <td>1</td>\n",
       "      <td>1.0</td>\n",
       "      <td>1.0</td>\n",
       "      <td>NaN</td>\n",
       "      <td>NaN</td>\n",
       "      <td>NaN</td>\n",
       "      <td>NaN</td>\n",
       "    </tr>\n",
       "  </tbody>\n",
       "</table>\n",
       "<p>5 rows × 1142 columns</p>\n",
       "</div>"
      ],
      "text/plain": [
       "   visitNumber     visitId  visitStartTime      date        fullVisitorId  \\\n",
       "0            1  1485032920      1485032920  20170121  1855060739215171075   \n",
       "1            1  1485046343      1485046343  20170121  0313317105004827030   \n",
       "2            1  1485033332      1485033332  20170121  4390276725642743703   \n",
       "3            1  1485038895      1485038895  20170121  8081748677261294867   \n",
       "4            1  1484996171      1484996171  20170121  8736621278905506906   \n",
       "\n",
       "  channelGrouping  10 52048  10 52147  10 52211  10 52213      ...       \\\n",
       "0          Direct         0         0         0         0      ...        \n",
       "1  Organic Search         0         0         0         0      ...        \n",
       "2          Direct         0         0         0         0      ...        \n",
       "3  Organic Search         0         0         0         0      ...        \n",
       "4          Direct         0         0         0         0      ...        \n",
       "\n",
       "                          region      subContinent  bounces  hits  newVisits  \\\n",
       "0                      (not set)  Northern America      1.0     1        1.0   \n",
       "1  not available in demo dataset   Southern Europe      1.0     1        1.0   \n",
       "2                      (not set)  Northern America      1.0     1        1.0   \n",
       "3  not available in demo dataset   Southern Europe      1.0     1        1.0   \n",
       "4  not available in demo dataset    Western Europe      1.0     1        1.0   \n",
       "\n",
       "   pageviews  timeOnSite  totalTransactionRevenue  transactionRevenue  \\\n",
       "0        1.0         NaN                      NaN                 NaN   \n",
       "1        1.0         NaN                      NaN                 NaN   \n",
       "2        1.0         NaN                      NaN                 NaN   \n",
       "3        1.0         NaN                      NaN                 NaN   \n",
       "4        1.0         NaN                      NaN                 NaN   \n",
       "\n",
       "   transactions  \n",
       "0           NaN  \n",
       "1           NaN  \n",
       "2           NaN  \n",
       "3           NaN  \n",
       "4           NaN  \n",
       "\n",
       "[5 rows x 1142 columns]"
      ]
     },
     "execution_count": 125,
     "metadata": {},
     "output_type": "execute_result"
    }
   ],
   "source": [
    "visitas.head()"
   ]
  },
  {
   "cell_type": "code",
   "execution_count": 126,
   "metadata": {},
   "outputs": [],
   "source": [
    "visitas.drop(columns=['transactionRevenue','transactions'], axis=1, inplace=True)"
   ]
  },
  {
   "cell_type": "markdown",
   "metadata": {},
   "source": [
    "- Convertendo a coluna \"totaltransactionRevenue\" para valor real."
   ]
  },
  {
   "cell_type": "code",
   "execution_count": 127,
   "metadata": {},
   "outputs": [],
   "source": [
    "visitas.totalTransactionRevenue = visitas.totalTransactionRevenue / 1000000"
   ]
  },
  {
   "cell_type": "markdown",
   "metadata": {},
   "source": [
    "- Criando um novo df extraindo informações do df \"visitas\""
   ]
  },
  {
   "cell_type": "code",
   "execution_count": 128,
   "metadata": {},
   "outputs": [],
   "source": [
    "# criando lista com variáveis quantitativas\n",
    "quant = list(set(totals) - set(coluna_na) - set(['transactionRevenue','transactions']))\n",
    "\n",
    "\n",
    "#  criando um datafrrame com os resultados quantitativos das sessoes\n",
    "visitas_totals = visitas.groupby('fullVisitorId', as_index=False)[quant].sum()\n",
    "\n",
    "\n",
    "#  ultima visita\n",
    "\n",
    "ultima_visita = visitas.groupby('fullVisitorId', as_index=False)\n",
    "ultima_visita = ultima_visita['visitNumber'].max()\n",
    "\n",
    "\n",
    "# Combinação entre visitantes e visitas únicos\n",
    "usuarios_visitas_unicos = visitas.drop_duplicates(subset=['fullVisitorId','visitNumber'])\n",
    "\n",
    "\n",
    "#  Datafame usuários com todos os usuários únicos e sua última visita\n",
    "usuarios = pd.merge(ultima_visita, usuarios_visitas_unicos, left_on=['fullVisitorId', 'visitNumber'],\n",
    "                    right_on=['fullVisitorId', 'visitNumber'], how='left')\n",
    "\n",
    "\n",
    "#  primeira visita\n",
    "primeira_visita = visitas.groupby('fullVisitorId', as_index=False)['visitNumber'].min()\n",
    "primeira_visita.set_index('fullVisitorId', inplace=True)\n",
    "\n",
    "\n",
    "# Dataframe usuários com todos os usuários únicos + sua última visita + primeira visita\n",
    "usuarios = usuarios.join(primeira_visita, how = 'left', on = 'fullVisitorId', rsuffix='_primeira')\n",
    "usuarios = pd.merge(usuarios, usuarios_visitas_unicos, left_on=['fullVisitorId','visitNumber_primeira'],\n",
    "                    right_on=['fullVisitorId','visitNumber'], how='left', suffixes=('_ultima','_primeira'))\n",
    "\n",
    "# Dataframe com todos usuários únicos + sua última visita + primmeira visita + somatório das colunas  quant\n",
    "usuarios = pd.merge(usuarios, visitas_totals, left_on=['fullVisitorId'],\n",
    "                   right_on=['fullVisitorId'], how='left')\n",
    "\n",
    "#  Removendo totais\n",
    "for i in quant:\n",
    "    usuarios.drop(i+'_primeira',axis=1,inplace=True)\n",
    "    usuarios.drop(i+'_ultima', axis=1, inplace=True)\n",
    "\n",
    "# Calculando o tempo entre a primeira e a última visita\n",
    "usuarios['tempo_visitas'] = usuarios.visitStartTime_ultima - usuarios.visitStartTime_primeira"
   ]
  },
  {
   "cell_type": "markdown",
   "metadata": {},
   "source": [
    "- Enconding das variáveis e removendo colunas."
   ]
  },
  {
   "cell_type": "code",
   "execution_count": 129,
   "metadata": {},
   "outputs": [],
   "source": [
    "#  Removendo as colunas Ids\n",
    "ids = ['fullVisitorId','visitId_ultima','visitId_primeira']\n",
    "usuarios.drop(ids, axis=1, inplace=True)\n",
    "\n",
    "#  Transformando as variáveis qualitativas em númericas.\n",
    "from sklearn.preprocessing import LabelEncoder\n",
    "qual = usuarios.dtypes[usuarios.dtypes == 'object'].keys()\n",
    "for col in qual:\n",
    "  encoder = LabelEncoder()\n",
    "  usuarios[col] = encoder.fit_transform(list(usuarios[col].values.astype('str')))\n"
   ]
  },
  {
   "cell_type": "markdown",
   "metadata": {},
   "source": [
    "- Transformando a coluna totalTransactionRevenue"
   ]
  },
  {
   "cell_type": "code",
   "execution_count": 130,
   "metadata": {},
   "outputs": [
    {
     "data": {
      "text/html": [
       "<div>\n",
       "<style scoped>\n",
       "    .dataframe tbody tr th:only-of-type {\n",
       "        vertical-align: middle;\n",
       "    }\n",
       "\n",
       "    .dataframe tbody tr th {\n",
       "        vertical-align: top;\n",
       "    }\n",
       "\n",
       "    .dataframe thead th {\n",
       "        text-align: right;\n",
       "    }\n",
       "</style>\n",
       "<table border=\"1\" class=\"dataframe\">\n",
       "  <thead>\n",
       "    <tr style=\"text-align: right;\">\n",
       "      <th></th>\n",
       "      <th>visitNumber_ultima</th>\n",
       "      <th>visitStartTime_ultima</th>\n",
       "      <th>date_ultima</th>\n",
       "      <th>channelGrouping_ultima</th>\n",
       "      <th>10 52048_ultima</th>\n",
       "      <th>10 52147_ultima</th>\n",
       "      <th>10 52211_ultima</th>\n",
       "      <th>10 52213_ultima</th>\n",
       "      <th>10 52223_ultima</th>\n",
       "      <th>10 52225_ultima</th>\n",
       "      <th>...</th>\n",
       "      <th>networkDomain_primeira</th>\n",
       "      <th>region_primeira</th>\n",
       "      <th>subContinent_primeira</th>\n",
       "      <th>totalTransactionRevenue</th>\n",
       "      <th>hits</th>\n",
       "      <th>pageviews</th>\n",
       "      <th>timeOnSite</th>\n",
       "      <th>bounces</th>\n",
       "      <th>newVisits</th>\n",
       "      <th>tempo_visitas</th>\n",
       "    </tr>\n",
       "  </thead>\n",
       "  <tbody>\n",
       "    <tr>\n",
       "      <th>0</th>\n",
       "      <td>1</td>\n",
       "      <td>1484597865</td>\n",
       "      <td>15</td>\n",
       "      <td>7</td>\n",
       "      <td>0</td>\n",
       "      <td>0</td>\n",
       "      <td>0</td>\n",
       "      <td>0</td>\n",
       "      <td>0</td>\n",
       "      <td>0</td>\n",
       "      <td>...</td>\n",
       "      <td>1075</td>\n",
       "      <td>135</td>\n",
       "      <td>17</td>\n",
       "      <td>0.0</td>\n",
       "      <td>1</td>\n",
       "      <td>1.0</td>\n",
       "      <td>0.0</td>\n",
       "      <td>1.0</td>\n",
       "      <td>1.0</td>\n",
       "      <td>0</td>\n",
       "    </tr>\n",
       "    <tr>\n",
       "      <th>1</th>\n",
       "      <td>1</td>\n",
       "      <td>1485675517</td>\n",
       "      <td>27</td>\n",
       "      <td>7</td>\n",
       "      <td>0</td>\n",
       "      <td>0</td>\n",
       "      <td>0</td>\n",
       "      <td>0</td>\n",
       "      <td>0</td>\n",
       "      <td>0</td>\n",
       "      <td>...</td>\n",
       "      <td>2545</td>\n",
       "      <td>135</td>\n",
       "      <td>6</td>\n",
       "      <td>0.0</td>\n",
       "      <td>1</td>\n",
       "      <td>1.0</td>\n",
       "      <td>0.0</td>\n",
       "      <td>1.0</td>\n",
       "      <td>1.0</td>\n",
       "      <td>0</td>\n",
       "    </tr>\n",
       "    <tr>\n",
       "      <th>2</th>\n",
       "      <td>1</td>\n",
       "      <td>1483595731</td>\n",
       "      <td>3</td>\n",
       "      <td>6</td>\n",
       "      <td>0</td>\n",
       "      <td>0</td>\n",
       "      <td>0</td>\n",
       "      <td>0</td>\n",
       "      <td>0</td>\n",
       "      <td>0</td>\n",
       "      <td>...</td>\n",
       "      <td>892</td>\n",
       "      <td>128</td>\n",
       "      <td>12</td>\n",
       "      <td>0.0</td>\n",
       "      <td>5</td>\n",
       "      <td>5.0</td>\n",
       "      <td>78.0</td>\n",
       "      <td>0.0</td>\n",
       "      <td>1.0</td>\n",
       "      <td>0</td>\n",
       "    </tr>\n",
       "    <tr>\n",
       "      <th>3</th>\n",
       "      <td>1</td>\n",
       "      <td>1483629067</td>\n",
       "      <td>4</td>\n",
       "      <td>4</td>\n",
       "      <td>0</td>\n",
       "      <td>0</td>\n",
       "      <td>0</td>\n",
       "      <td>0</td>\n",
       "      <td>0</td>\n",
       "      <td>0</td>\n",
       "      <td>...</td>\n",
       "      <td>4503</td>\n",
       "      <td>49</td>\n",
       "      <td>21</td>\n",
       "      <td>0.0</td>\n",
       "      <td>1</td>\n",
       "      <td>1.0</td>\n",
       "      <td>0.0</td>\n",
       "      <td>1.0</td>\n",
       "      <td>1.0</td>\n",
       "      <td>0</td>\n",
       "    </tr>\n",
       "    <tr>\n",
       "      <th>4</th>\n",
       "      <td>1</td>\n",
       "      <td>1484513468</td>\n",
       "      <td>14</td>\n",
       "      <td>4</td>\n",
       "      <td>0</td>\n",
       "      <td>0</td>\n",
       "      <td>0</td>\n",
       "      <td>0</td>\n",
       "      <td>0</td>\n",
       "      <td>0</td>\n",
       "      <td>...</td>\n",
       "      <td>4644</td>\n",
       "      <td>135</td>\n",
       "      <td>13</td>\n",
       "      <td>0.0</td>\n",
       "      <td>1</td>\n",
       "      <td>1.0</td>\n",
       "      <td>0.0</td>\n",
       "      <td>1.0</td>\n",
       "      <td>1.0</td>\n",
       "      <td>0</td>\n",
       "    </tr>\n",
       "  </tbody>\n",
       "</table>\n",
       "<p>5 rows × 2272 columns</p>\n",
       "</div>"
      ],
      "text/plain": [
       "   visitNumber_ultima  visitStartTime_ultima  date_ultima  \\\n",
       "0                   1             1484597865           15   \n",
       "1                   1             1485675517           27   \n",
       "2                   1             1483595731            3   \n",
       "3                   1             1483629067            4   \n",
       "4                   1             1484513468           14   \n",
       "\n",
       "   channelGrouping_ultima  10 52048_ultima  10 52147_ultima  10 52211_ultima  \\\n",
       "0                       7                0                0                0   \n",
       "1                       7                0                0                0   \n",
       "2                       6                0                0                0   \n",
       "3                       4                0                0                0   \n",
       "4                       4                0                0                0   \n",
       "\n",
       "   10 52213_ultima  10 52223_ultima  10 52225_ultima      ...        \\\n",
       "0                0                0                0      ...         \n",
       "1                0                0                0      ...         \n",
       "2                0                0                0      ...         \n",
       "3                0                0                0      ...         \n",
       "4                0                0                0      ...         \n",
       "\n",
       "   networkDomain_primeira  region_primeira  subContinent_primeira  \\\n",
       "0                    1075              135                     17   \n",
       "1                    2545              135                      6   \n",
       "2                     892              128                     12   \n",
       "3                    4503               49                     21   \n",
       "4                    4644              135                     13   \n",
       "\n",
       "   totalTransactionRevenue  hits  pageviews  timeOnSite  bounces  newVisits  \\\n",
       "0                      0.0     1        1.0         0.0      1.0        1.0   \n",
       "1                      0.0     1        1.0         0.0      1.0        1.0   \n",
       "2                      0.0     5        5.0        78.0      0.0        1.0   \n",
       "3                      0.0     1        1.0         0.0      1.0        1.0   \n",
       "4                      0.0     1        1.0         0.0      1.0        1.0   \n",
       "\n",
       "   tempo_visitas  \n",
       "0              0  \n",
       "1              0  \n",
       "2              0  \n",
       "3              0  \n",
       "4              0  \n",
       "\n",
       "[5 rows x 2272 columns]"
      ]
     },
     "execution_count": 130,
     "metadata": {},
     "output_type": "execute_result"
    }
   ],
   "source": [
    "usuarios.head()"
   ]
  },
  {
   "cell_type": "code",
   "execution_count": 131,
   "metadata": {},
   "outputs": [],
   "source": [
    "usuarios['totalTransactionRevenue'] = usuarios['totalTransactionRevenue'].apply(lambda x: 1 if x > 0 else 0)"
   ]
  },
  {
   "cell_type": "code",
   "execution_count": 132,
   "metadata": {},
   "outputs": [
    {
     "data": {
      "text/plain": [
       "0    52379\n",
       "1      662\n",
       "Name: totalTransactionRevenue, dtype: int64"
      ]
     },
     "execution_count": 132,
     "metadata": {},
     "output_type": "execute_result"
    }
   ],
   "source": [
    "usuarios['totalTransactionRevenue'].value_counts()"
   ]
  },
  {
   "cell_type": "markdown",
   "metadata": {},
   "source": [
    "# 3- Machine learning"
   ]
  },
  {
   "cell_type": "markdown",
   "metadata": {},
   "source": [
    "- Dividindo o dataset em X e Y"
   ]
  },
  {
   "cell_type": "code",
   "execution_count": 133,
   "metadata": {},
   "outputs": [],
   "source": [
    "X = usuarios.drop('totalTransactionRevenue', axis=1)\n",
    "Y = usuarios['totalTransactionRevenue']"
   ]
  },
  {
   "cell_type": "markdown",
   "metadata": {},
   "source": [
    "- Separando em amostras de treino e teste."
   ]
  },
  {
   "cell_type": "code",
   "execution_count": 134,
   "metadata": {},
   "outputs": [],
   "source": [
    "from sklearn.model_selection import train_test_split"
   ]
  },
  {
   "cell_type": "code",
   "execution_count": 458,
   "metadata": {},
   "outputs": [],
   "source": [
    "X_treino, X_teste, Y_treino,Y_teste = train_test_split(X,Y, test_size=0.15, random_state=42)"
   ]
  },
  {
   "cell_type": "code",
   "execution_count": 459,
   "metadata": {},
   "outputs": [],
   "source": [
    "#  Removendo dados duplicados\n",
    "X_treino = X_treino.loc[:,~X_treino.columns.duplicated()]\n",
    "X_teste = X_teste.loc[:,~X_teste.columns.duplicated()]"
   ]
  },
  {
   "cell_type": "markdown",
   "metadata": {},
   "source": [
    "- Balanceando a base de dados."
   ]
  },
  {
   "cell_type": "code",
   "execution_count": 460,
   "metadata": {},
   "outputs": [],
   "source": [
    "X_treino['revenue'] = Y_treino"
   ]
  },
  {
   "cell_type": "code",
   "execution_count": 461,
   "metadata": {},
   "outputs": [],
   "source": [
    "usuarios_com_gastos = X_treino[X_treino.revenue > 0]"
   ]
  },
  {
   "cell_type": "code",
   "execution_count": 462,
   "metadata": {},
   "outputs": [
    {
     "data": {
      "text/plain": [
       "(573, 2271)"
      ]
     },
     "execution_count": 462,
     "metadata": {},
     "output_type": "execute_result"
    }
   ],
   "source": [
    "usuarios_com_gastos.shape"
   ]
  },
  {
   "cell_type": "code",
   "execution_count": 463,
   "metadata": {},
   "outputs": [],
   "source": [
    "usuarios_sem_gastos = X_treino[X_treino.revenue == 0]"
   ]
  },
  {
   "cell_type": "code",
   "execution_count": 464,
   "metadata": {},
   "outputs": [
    {
     "data": {
      "text/plain": [
       "(44511, 2271)"
      ]
     },
     "execution_count": 464,
     "metadata": {},
     "output_type": "execute_result"
    }
   ],
   "source": [
    "usuarios_sem_gastos.shape"
   ]
  },
  {
   "cell_type": "code",
   "execution_count": 465,
   "metadata": {},
   "outputs": [],
   "source": [
    "from sklearn.utils import resample"
   ]
  },
  {
   "cell_type": "code",
   "execution_count": 466,
   "metadata": {},
   "outputs": [],
   "source": [
    "usuarios_sem_gastos_ds = resample(usuarios_sem_gastos,\n",
    "                                  replace=False,\n",
    "                                  n_samples=15000,\n",
    "                                  random_state=42)"
   ]
  },
  {
   "cell_type": "code",
   "execution_count": 467,
   "metadata": {},
   "outputs": [
    {
     "data": {
      "text/plain": [
       "(15000, 2271)"
      ]
     },
     "execution_count": 467,
     "metadata": {},
     "output_type": "execute_result"
    }
   ],
   "source": [
    "usuarios_sem_gastos_ds.shape"
   ]
  },
  {
   "cell_type": "code",
   "execution_count": 468,
   "metadata": {},
   "outputs": [],
   "source": [
    "X_treino_ds = pd.concat([usuarios_sem_gastos_ds, usuarios_com_gastos])"
   ]
  },
  {
   "cell_type": "code",
   "execution_count": 469,
   "metadata": {},
   "outputs": [
    {
     "data": {
      "text/plain": [
       "(15573, 2271)"
      ]
     },
     "execution_count": 469,
     "metadata": {},
     "output_type": "execute_result"
    }
   ],
   "source": [
    "X_treino_ds.shape"
   ]
  },
  {
   "cell_type": "code",
   "execution_count": 470,
   "metadata": {},
   "outputs": [],
   "source": [
    "X_treino = X_treino_ds.drop('revenue',axis=1)\n",
    "Y_treino = X_treino_ds['revenue']"
   ]
  },
  {
   "cell_type": "markdown",
   "metadata": {},
   "source": [
    "## Modelo base"
   ]
  },
  {
   "cell_type": "code",
   "execution_count": 471,
   "metadata": {},
   "outputs": [],
   "source": [
    "from sklearn.dummy import DummyClassifier"
   ]
  },
  {
   "cell_type": "code",
   "execution_count": 472,
   "metadata": {},
   "outputs": [],
   "source": [
    "dmclf = DummyClassifier()"
   ]
  },
  {
   "cell_type": "code",
   "execution_count": 473,
   "metadata": {},
   "outputs": [
    {
     "data": {
      "text/plain": [
       "DummyClassifier(constant=None, random_state=None, strategy='stratified')"
      ]
     },
     "execution_count": 473,
     "metadata": {},
     "output_type": "execute_result"
    }
   ],
   "source": [
    "dmclf.fit(X_treino, Y_treino)"
   ]
  },
  {
   "cell_type": "code",
   "execution_count": 474,
   "metadata": {},
   "outputs": [],
   "source": [
    "dmclf_pred = dmclf.predict(X_teste)"
   ]
  },
  {
   "cell_type": "code",
   "execution_count": 475,
   "metadata": {},
   "outputs": [],
   "source": [
    "from sklearn.metrics import classification_report, confusion_matrix, roc_auc_score, roc_curve"
   ]
  },
  {
   "cell_type": "code",
   "execution_count": 476,
   "metadata": {},
   "outputs": [
    {
     "name": "stdout",
     "output_type": "stream",
     "text": [
      "             precision    recall  f1-score   support\n",
      "\n",
      "          0       0.99      0.96      0.98      7868\n",
      "          1       0.00      0.00      0.00        89\n",
      "\n",
      "avg / total       0.98      0.95      0.96      7957\n",
      "\n"
     ]
    }
   ],
   "source": [
    "print(classification_report(Y_teste,dmclf_pred))"
   ]
  },
  {
   "cell_type": "code",
   "execution_count": 477,
   "metadata": {},
   "outputs": [
    {
     "data": {
      "text/plain": [
       "Text(33,0.5,'Real ( 1 ou 0)')"
      ]
     },
     "execution_count": 477,
     "metadata": {},
     "output_type": "execute_result"
    },
    {
     "data": {
      "image/png": "[encoded data removed]",
      "text/plain": [
       "<matplotlib.figure.Figure at 0x7f3c65c23e10>"
      ]
     },
     "metadata": {},
     "output_type": "display_data"
    }
   ],
   "source": [
    "cm=confusion_matrix(Y_teste, dmclf_pred)\n",
    "sns.heatmap(cm, annot=True, fmt='g')\n",
    "\n",
    "plt.xlabel('Predição( 1 ou 0)')\n",
    "plt.ylabel('Real ( 1 ou 0)')"
   ]
  },
  {
   "cell_type": "markdown",
   "metadata": {},
   "source": [
    "## LogisticRegression"
   ]
  },
  {
   "cell_type": "code",
   "execution_count": 478,
   "metadata": {},
   "outputs": [],
   "source": [
    "from sklearn.linear_model import LogisticRegression"
   ]
  },
  {
   "cell_type": "code",
   "execution_count": 479,
   "metadata": {},
   "outputs": [],
   "source": [
    "lr = LogisticRegression( random_state=42)"
   ]
  },
  {
   "cell_type": "code",
   "execution_count": 480,
   "metadata": {},
   "outputs": [
    {
     "data": {
      "text/plain": [
       "LogisticRegression(C=1.0, class_weight=None, dual=False, fit_intercept=True,\n",
       "          intercept_scaling=1, max_iter=100, multi_class='ovr', n_jobs=1,\n",
       "          penalty='l2', random_state=42, solver='liblinear', tol=0.0001,\n",
       "          verbose=0, warm_start=False)"
      ]
     },
     "execution_count": 480,
     "metadata": {},
     "output_type": "execute_result"
    }
   ],
   "source": [
    "lr.fit(X_treino, Y_treino)"
   ]
  },
  {
   "cell_type": "code",
   "execution_count": 481,
   "metadata": {},
   "outputs": [],
   "source": [
    "y_pred = lr.predict(X_teste)"
   ]
  },
  {
   "cell_type": "code",
   "execution_count": 482,
   "metadata": {},
   "outputs": [
    {
     "name": "stdout",
     "output_type": "stream",
     "text": [
      "             precision    recall  f1-score   support\n",
      "\n",
      "          0       0.99      0.99      0.99      7868\n",
      "          1       0.23      0.18      0.20        89\n",
      "\n",
      "avg / total       0.98      0.98      0.98      7957\n",
      "\n"
     ]
    }
   ],
   "source": [
    "print(classification_report(Y_teste,y_pred))"
   ]
  },
  {
   "cell_type": "code",
   "execution_count": 483,
   "metadata": {},
   "outputs": [
    {
     "data": {
      "text/plain": [
       "Text(33,0.5,'Real ( 1 ou 0)')"
      ]
     },
     "execution_count": 483,
     "metadata": {},
     "output_type": "execute_result"
    },
    {
     "data": {
      "image/png": "[encoded data removed]",
      "text/plain": [
       "<matplotlib.figure.Figure at 0x7f3c6368b7b8>"
      ]
     },
     "metadata": {},
     "output_type": "display_data"
    }
   ],
   "source": [
    "cm=confusion_matrix(Y_teste, y_pred)\n",
    "sns.heatmap(cm, annot=True, fmt='g')\n",
    "\n",
    "plt.xlabel('Predição( 1 ou 0)')\n",
    "plt.ylabel('Real ( 1 ou 0)')"
   ]
  },
  {
   "cell_type": "code",
   "execution_count": null,
   "metadata": {},
   "outputs": [],
   "source": []
  },
  {
   "cell_type": "markdown",
   "metadata": {},
   "source": [
    "## RandomForest"
   ]
  },
  {
   "cell_type": "code",
   "execution_count": 484,
   "metadata": {},
   "outputs": [],
   "source": [
    "from sklearn.ensemble import RandomForestClassifier"
   ]
  },
  {
   "cell_type": "code",
   "execution_count": 485,
   "metadata": {},
   "outputs": [],
   "source": [
    "rf= RandomForestClassifier( random_state=42)"
   ]
  },
  {
   "cell_type": "code",
   "execution_count": 486,
   "metadata": {},
   "outputs": [
    {
     "data": {
      "text/plain": [
       "RandomForestClassifier(bootstrap=True, class_weight=None, criterion='gini',\n",
       "            max_depth=None, max_features='auto', max_leaf_nodes=None,\n",
       "            min_impurity_decrease=0.0, min_impurity_split=None,\n",
       "            min_samples_leaf=1, min_samples_split=2,\n",
       "            min_weight_fraction_leaf=0.0, n_estimators=10, n_jobs=1,\n",
       "            oob_score=False, random_state=42, verbose=0, warm_start=False)"
      ]
     },
     "execution_count": 486,
     "metadata": {},
     "output_type": "execute_result"
    }
   ],
   "source": [
    "rf.fit(X_treino, Y_treino)"
   ]
  },
  {
   "cell_type": "code",
   "execution_count": 487,
   "metadata": {},
   "outputs": [],
   "source": [
    "rf_pred = rf.predict(X_teste)"
   ]
  },
  {
   "cell_type": "code",
   "execution_count": 488,
   "metadata": {},
   "outputs": [
    {
     "name": "stdout",
     "output_type": "stream",
     "text": [
      "             precision    recall  f1-score   support\n",
      "\n",
      "          0       0.99      1.00      0.99      7868\n",
      "          1       0.51      0.26      0.34        89\n",
      "\n",
      "avg / total       0.99      0.99      0.99      7957\n",
      "\n"
     ]
    }
   ],
   "source": [
    "print(classification_report(Y_teste,rf_pred))"
   ]
  },
  {
   "cell_type": "code",
   "execution_count": 489,
   "metadata": {},
   "outputs": [
    {
     "data": {
      "text/plain": [
       "Text(33,0.5,'Real ( 1 ou 0)')"
      ]
     },
     "execution_count": 489,
     "metadata": {},
     "output_type": "execute_result"
    },
    {
     "data": {
      "image/png": "[encoded data removed]",
      "text/plain": [
       "<matplotlib.figure.Figure at 0x7f3c5f327240>"
      ]
     },
     "metadata": {},
     "output_type": "display_data"
    }
   ],
   "source": [
    "cm=confusion_matrix(Y_teste, rf_pred)\n",
    "sns.heatmap(cm, annot=True, fmt='g')\n",
    "\n",
    "plt.xlabel('Predição( 1 ou 0)')\n",
    "plt.ylabel('Real ( 1 ou 0)')"
   ]
  },
  {
   "cell_type": "markdown",
   "metadata": {},
   "source": [
    "## GradientBoosting"
   ]
  },
  {
   "cell_type": "code",
   "execution_count": 490,
   "metadata": {},
   "outputs": [],
   "source": [
    "from sklearn.ensemble import GradientBoostingClassifier"
   ]
  },
  {
   "cell_type": "code",
   "execution_count": 491,
   "metadata": {},
   "outputs": [],
   "source": [
    "gb = GradientBoostingClassifier(random_state=42)"
   ]
  },
  {
   "cell_type": "code",
   "execution_count": 492,
   "metadata": {},
   "outputs": [
    {
     "data": {
      "text/plain": [
       "GradientBoostingClassifier(criterion='friedman_mse', init=None,\n",
       "              learning_rate=0.1, loss='deviance', max_depth=3,\n",
       "              max_features=None, max_leaf_nodes=None,\n",
       "              min_impurity_decrease=0.0, min_impurity_split=None,\n",
       "              min_samples_leaf=1, min_samples_split=2,\n",
       "              min_weight_fraction_leaf=0.0, n_estimators=100,\n",
       "              presort='auto', random_state=42, subsample=1.0, verbose=0,\n",
       "              warm_start=False)"
      ]
     },
     "execution_count": 492,
     "metadata": {},
     "output_type": "execute_result"
    }
   ],
   "source": [
    "gb.fit(X_treino, Y_treino)"
   ]
  },
  {
   "cell_type": "code",
   "execution_count": 493,
   "metadata": {},
   "outputs": [],
   "source": [
    "gb_pred = gb.predict(X_teste)"
   ]
  },
  {
   "cell_type": "code",
   "execution_count": 494,
   "metadata": {},
   "outputs": [
    {
     "name": "stdout",
     "output_type": "stream",
     "text": [
      "             precision    recall  f1-score   support\n",
      "\n",
      "          0       1.00      0.99      0.99      7868\n",
      "          1       0.45      0.65      0.53        89\n",
      "\n",
      "avg / total       0.99      0.99      0.99      7957\n",
      "\n"
     ]
    }
   ],
   "source": [
    "print(classification_report(Y_teste, gb_pred))"
   ]
  },
  {
   "cell_type": "code",
   "execution_count": 495,
   "metadata": {},
   "outputs": [
    {
     "data": {
      "text/plain": [
       "Text(33,0.5,'Real ( 1 ou 0)')"
      ]
     },
     "execution_count": 495,
     "metadata": {},
     "output_type": "execute_result"
    },
    {
     "data": {
      "image/png": "[encoded data removed]",
      "text/plain": [
       "<matplotlib.figure.Figure at 0x7f3c4d1f67b8>"
      ]
     },
     "metadata": {},
     "output_type": "display_data"
    }
   ],
   "source": [
    "cm = confusion_matrix(Y_teste, gb_pred)\n",
    "sns.heatmap(cm, annot=True, fmt='g')\n",
    "\n",
    "plt.xlabel('Predição( 1 ou 0)')\n",
    "plt.ylabel('Real ( 1 ou 0)')"
   ]
  },
  {
   "cell_type": "markdown",
   "metadata": {},
   "source": [
    "## XGBoost"
   ]
  },
  {
   "cell_type": "code",
   "execution_count": 496,
   "metadata": {},
   "outputs": [],
   "source": [
    "from xgboost import XGBClassifier"
   ]
  },
  {
   "cell_type": "code",
   "execution_count": 497,
   "metadata": {},
   "outputs": [],
   "source": [
    "xgb = XGBClassifier(seed=42, n_estimators=300)"
   ]
  },
  {
   "cell_type": "code",
   "execution_count": 498,
   "metadata": {},
   "outputs": [
    {
     "data": {
      "text/plain": [
       "XGBClassifier(base_score=0.5, colsample_bylevel=1, colsample_bytree=1,\n",
       "       gamma=0, learning_rate=0.1, max_delta_step=0, max_depth=3,\n",
       "       min_child_weight=1, missing=None, n_estimators=300, nthread=-1,\n",
       "       objective='binary:logistic', reg_alpha=0, reg_lambda=1,\n",
       "       scale_pos_weight=1, seed=42, silent=True, subsample=1)"
      ]
     },
     "execution_count": 498,
     "metadata": {},
     "output_type": "execute_result"
    }
   ],
   "source": [
    "xgb.fit(X_treino, Y_treino)"
   ]
  },
  {
   "cell_type": "code",
   "execution_count": 499,
   "metadata": {},
   "outputs": [],
   "source": [
    "xgb_pred = xgb.predict(X_teste)"
   ]
  },
  {
   "cell_type": "code",
   "execution_count": 500,
   "metadata": {},
   "outputs": [
    {
     "name": "stdout",
     "output_type": "stream",
     "text": [
      "             precision    recall  f1-score   support\n",
      "\n",
      "          0       1.00      0.99      1.00      7868\n",
      "          1       0.55      0.80      0.65        89\n",
      "\n",
      "avg / total       0.99      0.99      0.99      7957\n",
      "\n"
     ]
    }
   ],
   "source": [
    "print(classification_report(Y_teste,xgb_pred))"
   ]
  },
  {
   "cell_type": "code",
   "execution_count": 501,
   "metadata": {},
   "outputs": [
    {
     "data": {
      "text/plain": [
       "Text(33,0.5,'Real ( 1 ou 0)')"
      ]
     },
     "execution_count": 501,
     "metadata": {},
     "output_type": "execute_result"
    },
    {
     "data": {
      "image/png": "[encoded data removed]",
      "text/plain": [
       "<matplotlib.figure.Figure at 0x7f3c4c3abac8>"
      ]
     },
     "metadata": {},
     "output_type": "display_data"
    }
   ],
   "source": [
    "cm=confusion_matrix(Y_teste, xgb_pred)\n",
    "sns.heatmap(cm, annot=True, fmt='g')\n",
    "\n",
    "plt.xlabel('Predição( 1 ou 0)')\n",
    "plt.ylabel('Real ( 1 ou 0)')"
   ]
  },
  {
   "cell_type": "code",
   "execution_count": 507,
   "metadata": {},
   "outputs": [
    {
     "name": "stdout",
     "output_type": "stream",
     "text": [
      "Treino: 0.9938354844923907\n",
      "Validation score 0.9808645675152137\n",
      "Teste: 0.9904486615558628\n",
      "ROC AUC\n",
      "Treino 0.9990132635253054\n",
      "Test 0.9945391087779828\n",
      "================================================================================\n"
     ]
    }
   ],
   "source": [
    "import warnings\n",
    "warnings.filterwarnings(\"ignore\")\n",
    "\n",
    "from sklearn.model_selection import cross_val_score\n",
    "\n",
    "clf = XGBClassifier(seed=42, n_estimators=300)\n",
    "\n",
    "clf.fit(X_treino, Y_treino)\n",
    "train_acc = clf.score(X_treino, Y_treino)\n",
    "val_score = cross_val_score(clf, X_treino, Y_treino, cv=5)\n",
    "test_acc = clf.score(X_teste, Y_teste)\n",
    "print('Treino:', train_acc)\n",
    "print('Validation score', val_score.mean())\n",
    "print('Teste:', test_acc)\n",
    "\n",
    "print('ROC AUC')\n",
    "\n",
    "y_proba_treino = clf.predict_proba(X_treino)\n",
    "roc_treino = roc_auc_score(Y_treino, y_proba_treino[:, 1])\n",
    "print('Treino', roc_treino)\n",
    "\n",
    "y_proba_teste = clf.predict_proba(X_teste)\n",
    "roc_teste = roc_auc_score(Y_teste, y_proba_teste[:, 1])\n",
    "print('Test', roc_teste)\n",
    "print('='*80)"
   ]
  },
  {
   "cell_type": "code",
   "execution_count": 509,
   "metadata": {},
   "outputs": [
    {
     "name": "stdout",
     "output_type": "stream",
     "text": [
      "0.9945391087779828\n"
     ]
    }
   ],
   "source": [
    "y_proba = clf.predict_proba(X_teste)\n",
    "auc = metrics.roc_auc_score(Y_teste, y_proba[:,1])\n",
    "print(auc)"
   ]
  },
  {
   "cell_type": "code",
   "execution_count": 505,
   "metadata": {},
   "outputs": [
    {
     "data": {
      "image/png": "[encoded data removed]",
      "text/plain": [
       "<matplotlib.figure.Figure at 0x7f3c4ab5c588>"
      ]
     },
     "metadata": {},
     "output_type": "display_data"
    }
   ],
   "source": [
    "from sklearn import metrics\n",
    "fpr, tpr, thresholds = metrics.roc_curve(Y_teste, xgb_pred)\n",
    "plt.plot(fpr, tpr)\n",
    "\n",
    "plt.plot([0,1],[0,1], '--', label='Previsão aleatória')\n",
    "\n",
    "plt.title('ROC curve')\n",
    "plt.xlabel('Falsos Positivos')\n",
    "plt.ylabel('Verdadeiros Positivos ')\n",
    "plt.grid(True)\n",
    "plt.show()"
   ]
  },
  {
   "cell_type": "code",
   "execution_count": null,
   "metadata": {},
   "outputs": [],
   "source": []
  }
 ],
 "metadata": {
  "kernelspec": {
   "display_name": "Python 3",
   "language": "python",
   "name": "python3"
  },
  "language_info": {
   "codemirror_mode": {
    "name": "ipython",
    "version": 3
   },
   "file_extension": ".py",
   "mimetype": "text/x-python",
   "name": "python",
   "nbconvert_exporter": "python",
   "pygments_lexer": "ipython3",
   "version": "3.5.6"
  }
 },
 "nbformat": 4,
 "nbformat_minor": 4
}
